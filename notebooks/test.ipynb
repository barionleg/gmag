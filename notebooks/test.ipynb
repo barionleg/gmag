{
 "cells": [
  {
   "cell_type": "code",
   "execution_count": null,
   "metadata": {},
   "outputs": [],
   "source": [
    "def test_func(a,b):\n",
    "    return a, b"
   ]
  },
  {
   "cell_type": "code",
   "execution_count": null,
   "metadata": {},
   "outputs": [],
   "source": [
    "b = test_func(1,2)\n",
    "b"
   ]
  },
  {
   "cell_type": "code",
   "execution_count": null,
   "metadata": {},
   "outputs": [],
   "source": [
    "a,_ = test_func(1,2)\n",
    "type(a)"
   ]
  },
  {
   "cell_type": "code",
   "execution_count": 1,
   "metadata": {},
   "outputs": [],
   "source": [
    "import cdflib\n",
    "import pandas as pd"
   ]
  },
  {
   "cell_type": "code",
   "execution_count": 2,
   "metadata": {},
   "outputs": [],
   "source": [
    "fn='D:\\\\data\\\\magnetometer\\\\THEMIS\\\\gill\\\\2010\\\\thg_l2_mag_gill_20100118_v01.cdf'\n",
    "\n",
    "cdf_file = cdflib.CDF(fn)"
   ]
  },
  {
   "cell_type": "code",
   "execution_count": 3,
   "metadata": {},
   "outputs": [],
   "source": [
    "a = cdf_file.cdf_info()"
   ]
  },
  {
   "cell_type": "code",
   "execution_count": 5,
   "metadata": {},
   "outputs": [
    {
     "data": {
      "text/plain": [
       "[{'Project': 'Global'},\n",
       " {'Source_name': 'Global'},\n",
       " {'Discipline': 'Global'},\n",
       " {'Data_type': 'Global'},\n",
       " {'Descriptor': 'Global'},\n",
       " {'Data_version': 'Global'},\n",
       " {'PI_name': 'Global'},\n",
       " {'PI_affiliation': 'Global'},\n",
       " {'TEXT': 'Global'},\n",
       " {'Instrument_type': 'Global'},\n",
       " {'Mission_group': 'Global'},\n",
       " {'Logical_source': 'Global'},\n",
       " {'Logical_file_id': 'Global'},\n",
       " {'Logical_source_description': 'Global'},\n",
       " {'Time_resolution': 'Global'},\n",
       " {'Rules_of_use': 'Global'},\n",
       " {'Generated_by': 'Global'},\n",
       " {'Generation_date': 'Global'},\n",
       " {'Acknowledgement': 'Global'},\n",
       " {'MODS': 'Global'},\n",
       " {'ADID_ref': 'Global'},\n",
       " {'LINK_TEXT': 'Global'},\n",
       " {'LINK_TITLE': 'Global'},\n",
       " {'HTTP_LINK': 'Global'},\n",
       " {'File_naming_convention': 'Global'},\n",
       " {'spase_DatasetResourceID': 'Global'},\n",
       " {'CATDESC': 'Variable'},\n",
       " {'DEPEND_0': 'Variable'},\n",
       " {'DEPEND_1': 'Variable'},\n",
       " {'DEPEND_2': 'Variable'},\n",
       " {'DEPEND_3': 'Variable'},\n",
       " {'DICT_KEY': 'Variable'},\n",
       " {'DISPLAY_TYPE': 'Variable'},\n",
       " {'FIELDNAM': 'Variable'},\n",
       " {'FILLVAL': 'Variable'},\n",
       " {'FORMAT': 'Variable'},\n",
       " {'LABLAXIS': 'Variable'},\n",
       " {'LABL_PTR_1': 'Variable'},\n",
       " {'LABL_PTR_2': 'Variable'},\n",
       " {'LABL_PTR_3': 'Variable'},\n",
       " {'UNITS': 'Variable'},\n",
       " {'UNIT_PTR': 'Variable'},\n",
       " {'VALIDMIN': 'Variable'},\n",
       " {'VALIDMAX': 'Variable'},\n",
       " {'VAR_TYPE': 'Variable'},\n",
       " {'SCALETYP': 'Variable'},\n",
       " {'SCAL_PTR': 'Variable'},\n",
       " {'VAR_NOTES': 'Variable'},\n",
       " {'FORM_PTR': 'Variable'},\n",
       " {'VIRTUAL': 'Variable'},\n",
       " {'FUNCT': 'Variable'},\n",
       " {'COMPONENT_0': 'Variable'},\n",
       " {'COMPONENT_1': 'Variable'},\n",
       " {'COMPONENT_2': 'Variable'},\n",
       " {'DEPEND_TIME': 'Variable'},\n",
       " {'DEPEND_EPOCH0': 'Variable'},\n",
       " {'station_latitude': 'Variable'},\n",
       " {'station_longitude': 'Variable'}]"
      ]
     },
     "execution_count": 5,
     "metadata": {},
     "output_type": "execute_result"
    }
   ],
   "source": [
    "b = a['Attributes']\n",
    "b"
   ]
  },
  {
   "cell_type": "code",
   "execution_count": null,
   "metadata": {},
   "outputs": [],
   "source": [
    "b[0].keys()"
   ]
  },
  {
   "cell_type": "code",
   "execution_count": 16,
   "metadata": {},
   "outputs": [
    {
     "data": {
      "text/plain": [
       "'0.5'"
      ]
     },
     "execution_count": 16,
     "metadata": {},
     "output_type": "execute_result"
    }
   ],
   "source": [
    "cdf_file.attget('PI_name',0)['Data']\n",
    "float(cdf_file.attget('Time_resolution',0)['Data'][0:-1])\n"
   ]
  },
  {
   "cell_type": "code",
   "execution_count": 4,
   "metadata": {},
   "outputs": [],
   "source": [
    "stn='gill'"
   ]
  },
  {
   "cell_type": "code",
   "execution_count": 39,
   "metadata": {},
   "outputs": [
    {
     "data": {
      "text/plain": [
       "array([['Magnetic North - H'],\n",
       "       ['Magnetic East - E '],\n",
       "       ['Vertical Down - Z ']], dtype='<U18')"
      ]
     },
     "execution_count": 39,
     "metadata": {},
     "output_type": "execute_result"
    }
   ],
   "source": [
    "cdf_col = cdf_file.varget('thg_mag_'+stn.lower()+'_labl')\n",
    "test_col = ['Magnetic North - H', 'Magnetic East - E', 'Vertical Down - Z']\n",
    "lab_col = ['H','D','Z']\n",
    "cdf_col"
   ]
  },
  {
   "cell_type": "code",
   "execution_count": 43,
   "metadata": {},
   "outputs": [
    {
     "data": {
      "text/plain": [
       "['Magnetic North', 'Magnetic East', 'Vertical Down']"
      ]
     },
     "execution_count": 43,
     "metadata": {},
     "output_type": "execute_result"
    }
   ],
   "source": [
    "x = [c_col[0].astype(str).replace('-','0').split('0')[0].strip() for c_col in cdf_col]\n",
    "x"
   ]
  },
  {
   "cell_type": "code",
   "execution_count": 46,
   "metadata": {},
   "outputs": [
    {
     "data": {
      "text/plain": [
       "'Magnetic North - H, Magnetic East - E , Vertical Down - Z'"
      ]
     },
     "execution_count": 46,
     "metadata": {},
     "output_type": "execute_result"
    }
   ],
   "source": [
    "coord = ', '.join(cdf_col).strip()\n",
    "coord"
   ]
  },
  {
   "cell_type": "code",
   "execution_count": 34,
   "metadata": {},
   "outputs": [
    {
     "data": {
      "text/plain": [
       "['GILL_H', 'GILL_D', 'GILL_Z']"
      ]
     },
     "execution_count": 34,
     "metadata": {},
     "output_type": "execute_result"
    }
   ],
   "source": [
    "columns=[(stn.upper()+'_'+l_col if c_col.strip() == t_col else c_col) for c_col,t_col,l_col in zip(cdf_col,test_col,lab_col)]\n",
    "columns"
   ]
  },
  {
   "cell_type": "code",
   "execution_count": null,
   "metadata": {},
   "outputs": [],
   "source": [
    "stn='gill'\n",
    "t   = pd.to_datetime(cdf_file.varget('thg_mag_'+stn.lower()+'_time'),unit='s')"
   ]
  },
  {
   "cell_type": "code",
   "execution_count": 25,
   "metadata": {},
   "outputs": [
    {
     "data": {
      "text/plain": [
       "['Magnetic North - H', 'Magnetic East - E ', 'Vertical Down - Z ']"
      ]
     },
     "execution_count": 25,
     "metadata": {},
     "output_type": "execute_result"
    }
   ],
   "source": [
    "cdf_col = cdf_file.varget('thg_mag_'+stn.lower()+'_labl')\n",
    "cdf_col"
   ]
  },
  {
   "cell_type": "code",
   "execution_count": 41,
   "metadata": {},
   "outputs": [
    {
     "data": {
      "text/plain": [
       "'Magnetic North'"
      ]
     },
     "execution_count": 41,
     "metadata": {},
     "output_type": "execute_result"
    }
   ],
   "source": [
    "test_col[0].replace('-',',').split(',')[0].strip()"
   ]
  },
  {
   "cell_type": "code",
   "execution_count": 63,
   "metadata": {},
   "outputs": [
    {
     "data": {
      "text/plain": [
       "'Magnetic North - H, Magnetic East - E, Vertical Down - Z'"
      ]
     },
     "execution_count": 63,
     "metadata": {},
     "output_type": "execute_result"
    }
   ],
   "source": [
    "x=', '.join([str(c_col[0]).strip() for c_col in cdf_col ]).strip()\n",
    "x"
   ]
  },
  {
   "cell_type": "code",
   "execution_count": 62,
   "metadata": {},
   "outputs": [
    {
     "data": {
      "text/plain": [
       "'Magnetic North - H, Magnetic East - E, Vertical Down - Z'"
      ]
     },
     "execution_count": 62,
     "metadata": {},
     "output_type": "execute_result"
    }
   ],
   "source": [
    "', '.join(x).strip()"
   ]
  }
 ],
 "metadata": {
  "kernelspec": {
   "display_name": "Python 3",
   "language": "python",
   "name": "python3"
  },
  "language_info": {
   "codemirror_mode": {
    "name": "ipython",
    "version": 3
   },
   "file_extension": ".py",
   "mimetype": "text/x-python",
   "name": "python",
   "nbconvert_exporter": "python",
   "pygments_lexer": "ipython3",
   "version": "3.6.13"
  }
 },
 "nbformat": 4,
 "nbformat_minor": 2
}
