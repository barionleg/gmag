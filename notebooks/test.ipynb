{
 "cells": [
  {
   "cell_type": "code",
   "execution_count": 3,
   "metadata": {},
   "outputs": [],
   "source": [
    "def test_func(a,b):\n",
    "    return a, b"
   ]
  },
  {
   "cell_type": "code",
   "execution_count": 4,
   "metadata": {},
   "outputs": [
    {
     "data": {
      "text/plain": [
       "(1, 2)"
      ]
     },
     "execution_count": 4,
     "metadata": {},
     "output_type": "execute_result"
    }
   ],
   "source": [
    "b = test_func(1,2)\n",
    "b"
   ]
  },
  {
   "cell_type": "code",
   "execution_count": 11,
   "metadata": {},
   "outputs": [
    {
     "data": {
      "text/plain": [
       "int"
      ]
     },
     "execution_count": 11,
     "metadata": {},
     "output_type": "execute_result"
    }
   ],
   "source": [
    "a,_ = test_func(1,2)\n",
    "type(a)"
   ]
  },
  {
   "cell_type": "code",
   "execution_count": 80,
   "metadata": {},
   "outputs": [],
   "source": [
    "import cdflib\n",
    "import pandas as pd"
   ]
  },
  {
   "cell_type": "code",
   "execution_count": 14,
   "metadata": {},
   "outputs": [],
   "source": [
    "fn='F:\\\\thg_l2_mag_gill_20160101_v01.cdf'\n",
    "\n",
    "cdf_file = cdflib.CDF(fn)"
   ]
  },
  {
   "cell_type": "code",
   "execution_count": 23,
   "metadata": {},
   "outputs": [],
   "source": [
    "a = cdf_file.cdf_info()"
   ]
  },
  {
   "cell_type": "code",
   "execution_count": 55,
   "metadata": {},
   "outputs": [
    {
     "data": {
      "text/plain": [
       "[{'Project': 'Global'},\n",
       " {'Source_name': 'Global'},\n",
       " {'Discipline': 'Global'},\n",
       " {'Data_type': 'Global'},\n",
       " {'Descriptor': 'Global'},\n",
       " {'Data_version': 'Global'},\n",
       " {'PI_name': 'Global'},\n",
       " {'PI_affiliation': 'Global'},\n",
       " {'TEXT': 'Global'},\n",
       " {'Instrument_type': 'Global'},\n",
       " {'Mission_group': 'Global'},\n",
       " {'Logical_source': 'Global'},\n",
       " {'Logical_file_id': 'Global'},\n",
       " {'Logical_source_description': 'Global'},\n",
       " {'Time_resolution': 'Global'},\n",
       " {'Rules_of_use': 'Global'},\n",
       " {'Generated_by': 'Global'},\n",
       " {'Generation_date': 'Global'},\n",
       " {'Acknowledgement': 'Global'},\n",
       " {'MODS': 'Global'},\n",
       " {'ADID_ref': 'Global'},\n",
       " {'LINK_TEXT': 'Global'},\n",
       " {'LINK_TITLE': 'Global'},\n",
       " {'HTTP_LINK': 'Global'},\n",
       " {'File_naming_convention': 'Global'},\n",
       " {'spase_DatasetResourceID': 'Global'},\n",
       " {'CATDESC': 'Variable'},\n",
       " {'DEPEND_0': 'Variable'},\n",
       " {'DEPEND_1': 'Variable'},\n",
       " {'DEPEND_2': 'Variable'},\n",
       " {'DEPEND_3': 'Variable'},\n",
       " {'DICT_KEY': 'Variable'},\n",
       " {'DISPLAY_TYPE': 'Variable'},\n",
       " {'FIELDNAM': 'Variable'},\n",
       " {'FILLVAL': 'Variable'},\n",
       " {'FORMAT': 'Variable'},\n",
       " {'LABLAXIS': 'Variable'},\n",
       " {'LABL_PTR_1': 'Variable'},\n",
       " {'LABL_PTR_2': 'Variable'},\n",
       " {'LABL_PTR_3': 'Variable'},\n",
       " {'UNITS': 'Variable'},\n",
       " {'UNIT_PTR': 'Variable'},\n",
       " {'VALIDMIN': 'Variable'},\n",
       " {'VALIDMAX': 'Variable'},\n",
       " {'VAR_TYPE': 'Variable'},\n",
       " {'SCALETYP': 'Variable'},\n",
       " {'SCAL_PTR': 'Variable'},\n",
       " {'VAR_NOTES': 'Variable'},\n",
       " {'FORM_PTR': 'Variable'},\n",
       " {'VIRTUAL': 'Variable'},\n",
       " {'FUNCT': 'Variable'},\n",
       " {'COMPONENT_0': 'Variable'},\n",
       " {'COMPONENT_1': 'Variable'},\n",
       " {'COMPONENT_2': 'Variable'},\n",
       " {'DEPEND_TIME': 'Variable'},\n",
       " {'DEPEND_EPOCH0': 'Variable'},\n",
       " {'station_latitude': 'Variable'},\n",
       " {'station_longitude': 'Variable'}]"
      ]
     },
     "execution_count": 55,
     "metadata": {},
     "output_type": "execute_result"
    }
   ],
   "source": [
    "b = a['Attributes']\n",
    "b"
   ]
  },
  {
   "cell_type": "code",
   "execution_count": 56,
   "metadata": {},
   "outputs": [
    {
     "data": {
      "text/plain": [
       "dict_keys(['Project'])"
      ]
     },
     "execution_count": 56,
     "metadata": {},
     "output_type": "execute_result"
    }
   ],
   "source": [
    "b[0].keys()"
   ]
  },
  {
   "cell_type": "code",
   "execution_count": 71,
   "metadata": {},
   "outputs": [
    {
     "data": {
      "text/plain": [
       "'MAG'"
      ]
     },
     "execution_count": 71,
     "metadata": {},
     "output_type": "execute_result"
    }
   ],
   "source": [
    "b = cdf_file.attget('Data_type',0)\n",
    "b['Data']"
   ]
  },
  {
   "cell_type": "code",
   "execution_count": 75,
   "metadata": {},
   "outputs": [
    {
     "data": {
      "text/plain": [
       "{'CDF': WindowsPath('F:/thg_l2_mag_gill_20160101_v01.cdf'),\n",
       " 'Version': '3.6.0',\n",
       " 'Encoding': 1,\n",
       " 'Majority': 'Row_major',\n",
       " 'rVariables': [],\n",
       " 'zVariables': ['thg_mag_gill',\n",
       "  'thg_magh_gill',\n",
       "  'thg_magd_gill',\n",
       "  'thg_magz_gill',\n",
       "  'thg_mag_gill_unit',\n",
       "  'thg_mag_gill_labl',\n",
       "  'thg_mag_gill_compno',\n",
       "  'thg_mag_gill_time',\n",
       "  'thg_mag_gill_epoch',\n",
       "  'thg_mag_gill_epoch0',\n",
       "  'range_epoch'],\n",
       " 'Attributes': [{'Project': 'Global'},\n",
       "  {'Source_name': 'Global'},\n",
       "  {'Discipline': 'Global'},\n",
       "  {'Data_type': 'Global'},\n",
       "  {'Descriptor': 'Global'},\n",
       "  {'Data_version': 'Global'},\n",
       "  {'PI_name': 'Global'},\n",
       "  {'PI_affiliation': 'Global'},\n",
       "  {'TEXT': 'Global'},\n",
       "  {'Instrument_type': 'Global'},\n",
       "  {'Mission_group': 'Global'},\n",
       "  {'Logical_source': 'Global'},\n",
       "  {'Logical_file_id': 'Global'},\n",
       "  {'Logical_source_description': 'Global'},\n",
       "  {'Time_resolution': 'Global'},\n",
       "  {'Rules_of_use': 'Global'},\n",
       "  {'Generated_by': 'Global'},\n",
       "  {'Generation_date': 'Global'},\n",
       "  {'Acknowledgement': 'Global'},\n",
       "  {'MODS': 'Global'},\n",
       "  {'ADID_ref': 'Global'},\n",
       "  {'LINK_TEXT': 'Global'},\n",
       "  {'LINK_TITLE': 'Global'},\n",
       "  {'HTTP_LINK': 'Global'},\n",
       "  {'File_naming_convention': 'Global'},\n",
       "  {'spase_DatasetResourceID': 'Global'},\n",
       "  {'CATDESC': 'Variable'},\n",
       "  {'DEPEND_0': 'Variable'},\n",
       "  {'DEPEND_1': 'Variable'},\n",
       "  {'DEPEND_2': 'Variable'},\n",
       "  {'DEPEND_3': 'Variable'},\n",
       "  {'DICT_KEY': 'Variable'},\n",
       "  {'DISPLAY_TYPE': 'Variable'},\n",
       "  {'FIELDNAM': 'Variable'},\n",
       "  {'FILLVAL': 'Variable'},\n",
       "  {'FORMAT': 'Variable'},\n",
       "  {'LABLAXIS': 'Variable'},\n",
       "  {'LABL_PTR_1': 'Variable'},\n",
       "  {'LABL_PTR_2': 'Variable'},\n",
       "  {'LABL_PTR_3': 'Variable'},\n",
       "  {'UNITS': 'Variable'},\n",
       "  {'UNIT_PTR': 'Variable'},\n",
       "  {'VALIDMIN': 'Variable'},\n",
       "  {'VALIDMAX': 'Variable'},\n",
       "  {'VAR_TYPE': 'Variable'},\n",
       "  {'SCALETYP': 'Variable'},\n",
       "  {'SCAL_PTR': 'Variable'},\n",
       "  {'VAR_NOTES': 'Variable'},\n",
       "  {'FORM_PTR': 'Variable'},\n",
       "  {'VIRTUAL': 'Variable'},\n",
       "  {'FUNCT': 'Variable'},\n",
       "  {'COMPONENT_0': 'Variable'},\n",
       "  {'COMPONENT_1': 'Variable'},\n",
       "  {'COMPONENT_2': 'Variable'},\n",
       "  {'DEPEND_TIME': 'Variable'},\n",
       "  {'DEPEND_EPOCH0': 'Variable'},\n",
       "  {'station_latitude': 'Variable'},\n",
       "  {'station_longitude': 'Variable'}],\n",
       " 'Copyright': '\\nCommon Data Format (CDF)\\n(C) Copyright 1990-2015 NASA/GSFC\\nSpace Physics Data Facility\\nNASA/Goddard Space Flight Center\\nGreenbelt, Maryland 20771 USA\\n(Internet -- GSFC-CDF-SUPPORT@LISTS.NASA.GOV)\\n',\n",
       " 'Checksum': False,\n",
       " 'Num_rdim': 0,\n",
       " 'rDim_sizes': [],\n",
       " 'Compressed': False,\n",
       " 'LeapSecondUpdated': -1}"
      ]
     },
     "execution_count": 75,
     "metadata": {},
     "output_type": "execute_result"
    }
   ],
   "source": [
    "a"
   ]
  },
  {
   "cell_type": "code",
   "execution_count": 109,
   "metadata": {},
   "outputs": [],
   "source": [
    "col = cdf_file.varget('thg_mag_'+stn.lower()+'_labl')\n"
   ]
  },
  {
   "cell_type": "code",
   "execution_count": 124,
   "metadata": {},
   "outputs": [
    {
     "data": {
      "text/plain": [
       "['GILL_H', 'GILL_E', 'GILL_Z']"
      ]
     },
     "execution_count": 124,
     "metadata": {},
     "output_type": "execute_result"
    }
   ],
   "source": [
    "stn='gill'\n",
    "columns=[stn.upper()+'_'+x[0].strip()[-1] for x in col]\n",
    "columns"
   ]
  },
  {
   "cell_type": "code",
   "execution_count": 105,
   "metadata": {},
   "outputs": [],
   "source": [
    "stn='gill'\n",
    "t   = pd.to_datetime(cdf_file.varget('thg_mag_'+stn.lower()+'_time'),unit='s')"
   ]
  },
  {
   "cell_type": "code",
   "execution_count": 106,
   "metadata": {},
   "outputs": [
    {
     "data": {
      "text/plain": [
       "Timestamp('2016-01-01 00:00:00')"
      ]
     },
     "execution_count": 106,
     "metadata": {},
     "output_type": "execute_result"
    }
   ],
   "source": [
    "t[0]"
   ]
  }
 ],
 "metadata": {
  "kernelspec": {
   "display_name": "Python 3",
   "language": "python",
   "name": "python3"
  },
  "language_info": {
   "codemirror_mode": {
    "name": "ipython",
    "version": 3
   },
   "file_extension": ".py",
   "mimetype": "text/x-python",
   "name": "python",
   "nbconvert_exporter": "python",
   "pygments_lexer": "ipython3",
   "version": "3.6.5"
  }
 },
 "nbformat": 4,
 "nbformat_minor": 2
}
