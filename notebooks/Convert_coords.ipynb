{
 "cells": [
  {
   "cell_type": "markdown",
   "metadata": {},
   "source": [
    "## CGM Coordinates\n",
    "\n",
    "Convert station coordinates from latitude and longitude to altitude adjusted corrected geomagnetic coordinates.\n",
    "\n",
    "- cgm lat\n",
    "- cmg lon\n",
    "- mlt at 0 UT\n",
    "- declination\n",
    "- L-shell dipole\n",
    "- L-shell Geopack IGRF"
   ]
  },
  {
   "cell_type": "code",
   "execution_count": 1,
   "metadata": {},
   "outputs": [],
   "source": [
    "import igrf12\n",
    "import aacgmv2\n",
    "import pandas as pd\n",
    "import numpy as np\n",
    "import datetime as datetime"
   ]
  },
  {
   "cell_type": "code",
   "execution_count": 2,
   "metadata": {},
   "outputs": [],
   "source": [
    "year   = ['2005','2006','2007','2008','2009','2010','2011','2012','2013','2014','2015','2016','2017','2018','2019']\n",
    "alt_km = 100.\n",
    "stn_f = \"C:\\\\Users\\\\krmurph1\\\\Google Drive\\\\Work\\\\python\\\\gmag\\\\Stations\\\\station_list.csv\""
   ]
  },
  {
   "cell_type": "code",
   "execution_count": 3,
   "metadata": {
    "scrolled": true
   },
   "outputs": [
    {
     "name": "stdout",
     "output_type": "stream",
     "text": [
      "9 0.3507422544683413 66.28107475891215 332.5431061345665 6.1802700380971745\n",
      "9 0.24067593422395495 66.22035932901935 332.74059004019415 6.150572511609095\n",
      "9 0.13181570993443356 66.1593169124843 332.9371238086651 6.1209441377339\n",
      "9 0.024142638388168335 66.09794913466297 333.1327096889545 6.091387027257041\n",
      "9 -0.08236184625325349 66.03625760895095 333.3273499967605 6.061903235671791\n",
      "9 -0.18771586859690775 65.97424393666215 333.5210471127435 6.032494763789942\n",
      "9 -0.24782958320414214 65.90867671181078 333.7205980233124 6.001648507390674\n",
      "9 -0.30734148782374593 65.84276658764227 333.91912746746925 5.970894492592324\n",
      "9 -0.3662604481948755 65.77651532232639 334.11663853759626 5.94023471525009\n",
      "9 -0.42459515928292196 65.70992465888969 334.31313439124574 5.9096711098131465\n",
      "9 -0.48235405081963045 65.64299632510509 334.50861824911806 5.879205550178089\n",
      "9 -0.5300290144922867 65.58419101268854 334.7329293172695 5.852644725275855\n",
      "9 -0.577323844513926 65.5249612579832 334.95622473995087 5.826086102554234\n",
      "9 -0.6242430056059621 65.46530909956594 335.1785046625997 5.799532874451995\n",
      "9 -0.6707908938583279 65.40523656621357 335.3997693516036 5.77298817442834\n"
     ]
    },
    {
     "ename": "RuntimeError",
     "evalue": "unable to set time for 2020-01-01 00:00:00",
     "output_type": "error",
     "traceback": [
      "\u001b[1;31m---------------------------------------------------------------------------\u001b[0m",
      "\u001b[1;31mRuntimeError\u001b[0m                              Traceback (most recent call last)",
      "\u001b[1;32m~\\Anaconda3\\envs\\igrf12\\lib\\site-packages\\aacgmv2\\wrapper.py\u001b[0m in \u001b[0;36mconvert_latlon\u001b[1;34m(in_lat, in_lon, height, dtime, code)\u001b[0m\n\u001b[0;32m    151\u001b[0m         c_aacgmv2.set_datetime(dtime.year, dtime.month, dtime.day, dtime.hour,\n\u001b[1;32m--> 152\u001b[1;33m                                dtime.minute, dtime.second)\n\u001b[0m\u001b[0;32m    153\u001b[0m     \u001b[1;32mexcept\u001b[0m\u001b[1;33m:\u001b[0m\u001b[1;33m\u001b[0m\u001b[0m\n",
      "\u001b[1;31mRuntimeError\u001b[0m: AACGM_v2_SetDateTime returned error code -1",
      "\nDuring handling of the above exception, another exception occurred:\n",
      "\u001b[1;31mRuntimeError\u001b[0m                              Traceback (most recent call last)",
      "\u001b[1;32m<ipython-input-3-888dd18e731e>\u001b[0m in \u001b[0;36m<module>\u001b[1;34m()\u001b[0m\n\u001b[0;32m     18\u001b[0m         \u001b[0mmag\u001b[0m \u001b[1;33m=\u001b[0m \u001b[0migrf12\u001b[0m\u001b[1;33m.\u001b[0m\u001b[0migrf\u001b[0m\u001b[1;33m(\u001b[0m\u001b[0mdt\u001b[0m\u001b[1;33m,\u001b[0m\u001b[0mglat\u001b[0m\u001b[1;33m=\u001b[0m\u001b[0mrow\u001b[0m\u001b[1;33m[\u001b[0m\u001b[1;34m'latitude'\u001b[0m\u001b[1;33m]\u001b[0m\u001b[1;33m,\u001b[0m\u001b[0mglon\u001b[0m\u001b[1;33m=\u001b[0m\u001b[0mrow\u001b[0m\u001b[1;33m[\u001b[0m\u001b[1;34m'longitude'\u001b[0m\u001b[1;33m]\u001b[0m\u001b[1;33m,\u001b[0m\u001b[0malt_km\u001b[0m\u001b[1;33m=\u001b[0m\u001b[0malt_km\u001b[0m\u001b[1;33m)\u001b[0m\u001b[1;33m\u001b[0m\u001b[0m\n\u001b[0;32m     19\u001b[0m \u001b[1;33m\u001b[0m\u001b[0m\n\u001b[1;32m---> 20\u001b[1;33m         \u001b[0mcgm_lat\u001b[0m\u001b[1;33m[\u001b[0m\u001b[0mindex\u001b[0m\u001b[1;33m]\u001b[0m\u001b[1;33m,\u001b[0m \u001b[0mcgm_lon\u001b[0m\u001b[1;33m[\u001b[0m\u001b[0mindex\u001b[0m\u001b[1;33m]\u001b[0m\u001b[1;33m,\u001b[0m \u001b[0mcgm_r\u001b[0m \u001b[1;33m=\u001b[0m \u001b[0maacgmv2\u001b[0m\u001b[1;33m.\u001b[0m\u001b[0mconvert_latlon\u001b[0m\u001b[1;33m(\u001b[0m\u001b[0mrow\u001b[0m\u001b[1;33m[\u001b[0m\u001b[1;34m'latitude'\u001b[0m\u001b[1;33m]\u001b[0m\u001b[1;33m,\u001b[0m\u001b[0mrow\u001b[0m\u001b[1;33m[\u001b[0m\u001b[1;34m'longitude'\u001b[0m\u001b[1;33m]\u001b[0m\u001b[1;33m,\u001b[0m \u001b[0malt_km\u001b[0m\u001b[1;33m,\u001b[0m\u001b[0mdt\u001b[0m\u001b[1;33m,\u001b[0m\u001b[0mcode\u001b[0m\u001b[1;33m=\u001b[0m\u001b[1;34m'G2A'\u001b[0m\u001b[1;33m)\u001b[0m\u001b[1;33m\u001b[0m\u001b[0m\n\u001b[0m\u001b[0;32m     21\u001b[0m \u001b[1;33m\u001b[0m\u001b[0m\n\u001b[0;32m     22\u001b[0m         \u001b[1;32mif\u001b[0m \u001b[0mcgm_lon\u001b[0m\u001b[1;33m[\u001b[0m\u001b[0mindex\u001b[0m\u001b[1;33m]\u001b[0m \u001b[1;33m<\u001b[0m\u001b[1;36m0\u001b[0m\u001b[1;33m:\u001b[0m\u001b[1;33m\u001b[0m\u001b[0m\n",
      "\u001b[1;32m~\\Anaconda3\\envs\\igrf12\\lib\\site-packages\\aacgmv2\\wrapper.py\u001b[0m in \u001b[0;36mconvert_latlon\u001b[1;34m(in_lat, in_lon, height, dtime, code)\u001b[0m\n\u001b[0;32m    152\u001b[0m                                dtime.minute, dtime.second)\n\u001b[0;32m    153\u001b[0m     \u001b[1;32mexcept\u001b[0m\u001b[1;33m:\u001b[0m\u001b[1;33m\u001b[0m\u001b[0m\n\u001b[1;32m--> 154\u001b[1;33m         \u001b[1;32mraise\u001b[0m \u001b[0mRuntimeError\u001b[0m\u001b[1;33m(\u001b[0m\u001b[1;34m\"unable to set time for {:}\"\u001b[0m\u001b[1;33m.\u001b[0m\u001b[0mformat\u001b[0m\u001b[1;33m(\u001b[0m\u001b[0mdtime\u001b[0m\u001b[1;33m)\u001b[0m\u001b[1;33m)\u001b[0m\u001b[1;33m\u001b[0m\u001b[0m\n\u001b[0m\u001b[0;32m    155\u001b[0m \u001b[1;33m\u001b[0m\u001b[0m\n\u001b[0;32m    156\u001b[0m     \u001b[1;31m# convert location\u001b[0m\u001b[1;33m\u001b[0m\u001b[1;33m\u001b[0m\u001b[0m\n",
      "\u001b[1;31mRuntimeError\u001b[0m: unable to set time for 2020-01-01 00:00:00"
     ]
    }
   ],
   "source": [
    "for yr in year:\n",
    "    dt = pd.to_datetime(yr)\n",
    "    \n",
    "    df = pd.read_csv(stn_f, header=None, skiprows=1, \n",
    "                     names = ['array','code','name','latitude','longitude'])\n",
    "\n",
    "    decl    = np.zeros(df.shape[0])\n",
    "    cgm_lat = np.zeros(df.shape[0])\n",
    "    cgm_lon = np.zeros(df.shape[0])\n",
    "    l_dip   = np.zeros(df.shape[0])\n",
    "    mlt     = np.zeros(df.shape[0])\n",
    "    mlt_ut  = np.zeros(df.shape[0])\n",
    "\n",
    "\n",
    "    # get declination, cgm coords, l-shell\n",
    "    for index, row in df.iterrows():\n",
    "\n",
    "        mag = igrf12.igrf(dt,glat=row['latitude'],glon=row['longitude'],alt_km=alt_km)\n",
    "\n",
    "        cgm_lat[index], cgm_lon[index], cgm_r = aacgmv2.convert_latlon(row['latitude'],row['longitude'], alt_km,dt,code='G2A')\n",
    "\n",
    "        if cgm_lon[index] <0:\n",
    "            cgm_lon[index] = 360+cgm_lon[index]\n",
    "\n",
    "        mlt_ut[index] = aacgmv2.convert_mlt(cgm_lon[index],datetime.datetime(int(yr),1,1,0,0,0),m2a=False)\n",
    "        mlt[index] = 24- mlt_ut[index]\n",
    "\n",
    "        l_dip[index] = 1./(np.cos(np.deg2rad(cgm_lat[index]))**2.)\n",
    "\n",
    "        decl[index] = mag['decl'].values[0]\n",
    "        if row['code'] == 'GILL':\n",
    "            print(index,decl[index],cgm_lat[index],cgm_lon[index],l_dip[index])\n",
    "\n",
    "    df['cgm_latitude']  = cgm_lat\n",
    "    df['cgm_longitude'] = cgm_lon\n",
    "    df['declination']   = decl\n",
    "    df['lshell']        = l_dip\n",
    "    df['mlt_midnight']  = mlt\n",
    "    df['mlt_ut']        = mlt_ut\n",
    "\n",
    "    fn = '.\\\\Stations\\\\{0:04d}_station_cgm.txt'.format(int(yr))\n",
    "    df.to_csv(fn,index=False,float_format=\"%E\", na_rep='NaN')"
   ]
  },
  {
   "cell_type": "code",
   "execution_count": null,
   "metadata": {
    "scrolled": true
   },
   "outputs": [],
   "source": [
    "df.head()"
   ]
  },
  {
   "cell_type": "code",
   "execution_count": null,
   "metadata": {},
   "outputs": [],
   "source": [
    "df[df['code'] == 'GILL']"
   ]
  },
  {
   "cell_type": "code",
   "execution_count": null,
   "metadata": {},
   "outputs": [],
   "source": [
    "pd.set_option('display.max_rows', None) \n"
   ]
  },
  {
   "cell_type": "code",
   "execution_count": null,
   "metadata": {},
   "outputs": [],
   "source": [
    "df[(df['lshell']>3) & (df['lshell']<7)][['array','code','cgm_longitude','lshell']]"
   ]
  },
  {
   "cell_type": "code",
   "execution_count": null,
   "metadata": {},
   "outputs": [],
   "source": [
    "df[(df['lshell']>7)][['array','code','cgm_longitude','lshell']]"
   ]
  },
  {
   "cell_type": "code",
   "execution_count": 4,
   "metadata": {},
   "outputs": [
    {
     "name": "stdout",
     "output_type": "stream",
     "text": [
      "23.999999\n"
     ]
    }
   ],
   "source": [
    "print(6.893449E+00+1.710655E+01)"
   ]
  }
 ],
 "metadata": {
  "kernelspec": {
   "display_name": "Python 3",
   "language": "python",
   "name": "python3"
  },
  "language_info": {
   "codemirror_mode": {
    "name": "ipython",
    "version": 3
   },
   "file_extension": ".py",
   "mimetype": "text/x-python",
   "name": "python",
   "nbconvert_exporter": "python",
   "pygments_lexer": "ipython3",
   "version": "3.7.3"
  }
 },
 "nbformat": 4,
 "nbformat_minor": 2
}
