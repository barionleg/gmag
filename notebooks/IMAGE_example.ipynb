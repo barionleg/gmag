{
 "cells": [
  {
   "cell_type": "code",
   "execution_count": 1,
   "metadata": {},
   "outputs": [],
   "source": [
    "from IPython.core.interactiveshell import InteractiveShell\n",
    "InteractiveShell.ast_node_interactivity = \"all\"\n",
    "\n",
    "%matplotlib notebook"
   ]
  },
  {
   "cell_type": "code",
   "execution_count": 2,
   "metadata": {},
   "outputs": [],
   "source": [
    "import gmag.arrays.image as image\n",
    "import pandas as pd\n",
    "import matplotlib.pyplot as plt"
   ]
  },
  {
   "cell_type": "code",
   "execution_count": null,
   "metadata": {},
   "outputs": [],
   "source": [
    "fl = image.list_files('2012-01-01',ndays=2)\n",
    "fl.head()"
   ]
  },
  {
   "cell_type": "code",
   "execution_count": null,
   "metadata": {},
   "outputs": [],
   "source": [
    "#test download\n",
    "image.download('2019-01-01',ndays=10, force=True)"
   ]
  },
  {
   "cell_type": "code",
   "execution_count": 3,
   "metadata": {},
   "outputs": [
    {
     "name": "stdout",
     "output_type": "stream",
     "text": [
      "File image2020010100.col2.gz exists use force=True to download\n",
      "D:\\data\\magnetometer\\IMAGE\\2020\\01\\image2020010100.col2.gz\n"
     ]
    }
   ],
   "source": [
    "df, meta=image.load(site='AND',sdate='2020-01-01',ndays=1)"
   ]
  },
  {
   "cell_type": "code",
   "execution_count": 4,
   "metadata": {},
   "outputs": [
    {
     "data": {
      "text/html": [
       "<div>\n",
       "<style scoped>\n",
       "    .dataframe tbody tr th:only-of-type {\n",
       "        vertical-align: middle;\n",
       "    }\n",
       "\n",
       "    .dataframe tbody tr th {\n",
       "        vertical-align: top;\n",
       "    }\n",
       "\n",
       "    .dataframe thead th {\n",
       "        text-align: right;\n",
       "    }\n",
       "</style>\n",
       "<table border=\"1\" class=\"dataframe\">\n",
       "  <thead>\n",
       "    <tr style=\"text-align: right;\">\n",
       "      <th></th>\n",
       "      <th>AND_X</th>\n",
       "      <th>AND_Y</th>\n",
       "      <th>AND_Z</th>\n",
       "    </tr>\n",
       "    <tr>\n",
       "      <th>t</th>\n",
       "      <th></th>\n",
       "      <th></th>\n",
       "      <th></th>\n",
       "    </tr>\n",
       "  </thead>\n",
       "  <tbody>\n",
       "    <tr>\n",
       "      <th>2020-01-01 00:00:00</th>\n",
       "      <td>10851.9</td>\n",
       "      <td>1426.8</td>\n",
       "      <td>52355.0</td>\n",
       "    </tr>\n",
       "    <tr>\n",
       "      <th>2020-01-01 00:00:10</th>\n",
       "      <td>10851.9</td>\n",
       "      <td>1426.6</td>\n",
       "      <td>52354.8</td>\n",
       "    </tr>\n",
       "    <tr>\n",
       "      <th>2020-01-01 00:00:20</th>\n",
       "      <td>10852.0</td>\n",
       "      <td>1426.6</td>\n",
       "      <td>52354.8</td>\n",
       "    </tr>\n",
       "    <tr>\n",
       "      <th>2020-01-01 00:00:30</th>\n",
       "      <td>10852.0</td>\n",
       "      <td>1426.6</td>\n",
       "      <td>52354.8</td>\n",
       "    </tr>\n",
       "    <tr>\n",
       "      <th>2020-01-01 00:00:40</th>\n",
       "      <td>10852.1</td>\n",
       "      <td>1426.7</td>\n",
       "      <td>52354.7</td>\n",
       "    </tr>\n",
       "  </tbody>\n",
       "</table>\n",
       "</div>"
      ],
      "text/plain": [
       "                       AND_X   AND_Y    AND_Z\n",
       "t                                            \n",
       "2020-01-01 00:00:00  10851.9  1426.8  52355.0\n",
       "2020-01-01 00:00:10  10851.9  1426.6  52354.8\n",
       "2020-01-01 00:00:20  10852.0  1426.6  52354.8\n",
       "2020-01-01 00:00:30  10852.0  1426.6  52354.8\n",
       "2020-01-01 00:00:40  10852.1  1426.7  52354.7"
      ]
     },
     "execution_count": 4,
     "metadata": {},
     "output_type": "execute_result"
    },
    {
     "data": {
      "text/html": [
       "<div>\n",
       "<style scoped>\n",
       "    .dataframe tbody tr th:only-of-type {\n",
       "        vertical-align: middle;\n",
       "    }\n",
       "\n",
       "    .dataframe tbody tr th {\n",
       "        vertical-align: top;\n",
       "    }\n",
       "\n",
       "    .dataframe thead th {\n",
       "        text-align: right;\n",
       "    }\n",
       "</style>\n",
       "<table border=\"1\" class=\"dataframe\">\n",
       "  <thead>\n",
       "    <tr style=\"text-align: right;\">\n",
       "      <th></th>\n",
       "      <th>AND_X</th>\n",
       "      <th>AND_Y</th>\n",
       "      <th>AND_Z</th>\n",
       "    </tr>\n",
       "    <tr>\n",
       "      <th>t</th>\n",
       "      <th></th>\n",
       "      <th></th>\n",
       "      <th></th>\n",
       "    </tr>\n",
       "  </thead>\n",
       "  <tbody>\n",
       "    <tr>\n",
       "      <th>2020-01-01 23:59:10</th>\n",
       "      <td>10853.6</td>\n",
       "      <td>1420.6</td>\n",
       "      <td>52361.4</td>\n",
       "    </tr>\n",
       "    <tr>\n",
       "      <th>2020-01-01 23:59:20</th>\n",
       "      <td>10853.8</td>\n",
       "      <td>1420.6</td>\n",
       "      <td>52361.5</td>\n",
       "    </tr>\n",
       "    <tr>\n",
       "      <th>2020-01-01 23:59:30</th>\n",
       "      <td>10853.9</td>\n",
       "      <td>1420.7</td>\n",
       "      <td>52361.3</td>\n",
       "    </tr>\n",
       "    <tr>\n",
       "      <th>2020-01-01 23:59:40</th>\n",
       "      <td>10854.0</td>\n",
       "      <td>1420.6</td>\n",
       "      <td>52361.3</td>\n",
       "    </tr>\n",
       "    <tr>\n",
       "      <th>2020-01-01 23:59:50</th>\n",
       "      <td>10853.9</td>\n",
       "      <td>1420.7</td>\n",
       "      <td>52361.2</td>\n",
       "    </tr>\n",
       "  </tbody>\n",
       "</table>\n",
       "</div>"
      ],
      "text/plain": [
       "                       AND_X   AND_Y    AND_Z\n",
       "t                                            \n",
       "2020-01-01 23:59:10  10853.6  1420.6  52361.4\n",
       "2020-01-01 23:59:20  10853.8  1420.6  52361.5\n",
       "2020-01-01 23:59:30  10853.9  1420.7  52361.3\n",
       "2020-01-01 23:59:40  10854.0  1420.6  52361.3\n",
       "2020-01-01 23:59:50  10853.9  1420.7  52361.2"
      ]
     },
     "execution_count": 4,
     "metadata": {},
     "output_type": "execute_result"
    }
   ],
   "source": [
    "df.head()\n",
    "df.tail()"
   ]
  },
  {
   "cell_type": "code",
   "execution_count": 5,
   "metadata": {},
   "outputs": [
    {
     "data": {
      "text/html": [
       "<div>\n",
       "<style scoped>\n",
       "    .dataframe tbody tr th:only-of-type {\n",
       "        vertical-align: middle;\n",
       "    }\n",
       "\n",
       "    .dataframe tbody tr th {\n",
       "        vertical-align: top;\n",
       "    }\n",
       "\n",
       "    .dataframe thead th {\n",
       "        text-align: right;\n",
       "    }\n",
       "</style>\n",
       "<table border=\"1\" class=\"dataframe\">\n",
       "  <thead>\n",
       "    <tr style=\"text-align: right;\">\n",
       "      <th></th>\n",
       "      <th>array</th>\n",
       "      <th>code</th>\n",
       "      <th>name</th>\n",
       "      <th>latitude</th>\n",
       "      <th>longitude</th>\n",
       "      <th>cgm_latitude</th>\n",
       "      <th>cgm_longitude</th>\n",
       "      <th>declination</th>\n",
       "      <th>lshell</th>\n",
       "      <th>mlt_midnight</th>\n",
       "      <th>mlt_ut</th>\n",
       "      <th>year</th>\n",
       "      <th>Time Resolution</th>\n",
       "      <th>PI</th>\n",
       "      <th>Institution</th>\n",
       "    </tr>\n",
       "  </thead>\n",
       "  <tbody>\n",
       "    <tr>\n",
       "      <th>0</th>\n",
       "      <td>IMAGE</td>\n",
       "      <td>AND</td>\n",
       "      <td>Andenes</td>\n",
       "      <td>69.3</td>\n",
       "      <td>16.03</td>\n",
       "      <td>NaN</td>\n",
       "      <td>NaN</td>\n",
       "      <td>NaN</td>\n",
       "      <td>NaN</td>\n",
       "      <td>NaN</td>\n",
       "      <td>NaN</td>\n",
       "      <td>NaN</td>\n",
       "      <td>10.0</td>\n",
       "      <td>Liisa Juusola</td>\n",
       "      <td>Finnish Meteorological Institute</td>\n",
       "    </tr>\n",
       "  </tbody>\n",
       "</table>\n",
       "</div>"
      ],
      "text/plain": [
       "   array code     name  latitude  longitude cgm_latitude cgm_longitude  \\\n",
       "0  IMAGE  AND  Andenes      69.3      16.03          NaN           NaN   \n",
       "\n",
       "  declination lshell mlt_midnight mlt_ut year  Time Resolution             PI  \\\n",
       "0         NaN    NaN          NaN    NaN  NaN             10.0  Liisa Juusola   \n",
       "\n",
       "                        Institution  \n",
       "0  Finnish Meteorological Institute  "
      ]
     },
     "execution_count": 5,
     "metadata": {},
     "output_type": "execute_result"
    }
   ],
   "source": [
    "meta"
   ]
  },
  {
   "cell_type": "code",
   "execution_count": null,
   "metadata": {},
   "outputs": [],
   "source": [
    "# not you can plot with panda's, however there\n",
    "#is an issue with determining the x-axis ticks\n",
    "#which serverly slows plotting and is extremely\n",
    "#memory intesive\n",
    "from pandas.plotting import register_matplotlib_converters\n",
    "register_matplotlib_converters()\n",
    "plt.plot(df['AND_X'])"
   ]
  },
  {
   "cell_type": "code",
   "execution_count": null,
   "metadata": {},
   "outputs": [],
   "source": []
  }
 ],
 "metadata": {
  "kernelspec": {
   "display_name": "Python 3",
   "language": "python",
   "name": "python3"
  },
  "language_info": {
   "codemirror_mode": {
    "name": "ipython",
    "version": 3
   },
   "file_extension": ".py",
   "mimetype": "text/x-python",
   "name": "python",
   "nbconvert_exporter": "python",
   "pygments_lexer": "ipython3",
   "version": "3.7.3"
  }
 },
 "nbformat": 4,
 "nbformat_minor": 2
}
