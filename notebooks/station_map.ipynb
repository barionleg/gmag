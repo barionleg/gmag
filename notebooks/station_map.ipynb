{
 "cells": [
  {
   "cell_type": "code",
   "execution_count": 1,
   "metadata": {},
   "outputs": [],
   "source": [
    "from IPython.core.interactiveshell import InteractiveShell\n",
    "InteractiveShell.ast_node_interactivity = \"all\"\n",
    "\n",
    "import pandas as pd\n",
    "import folium"
   ]
  },
  {
   "cell_type": "code",
   "execution_count": 26,
   "metadata": {},
   "outputs": [
    {
     "data": {
      "text/plain": [
       "array(['CARISMA', 'CANMOS', 'AUTUMNX', 'DTU', 'IMAGE', 'GIMA', 'MACCS',\n",
       "       'McMAC', 'THEMIS', 'USGS', 'PENGUIN'], dtype=object)"
      ]
     },
     "execution_count": 26,
     "metadata": {},
     "output_type": "execute_result"
    }
   ],
   "source": [
    "# read station data\n",
    "data = pd.read_csv('..\\\\gmag\\\\Stations\\\\station_list.csv')\n",
    "arrays = data.Array.unique()\n",
    "arrays"
   ]
  },
  {
   "cell_type": "code",
   "execution_count": 56,
   "metadata": {},
   "outputs": [
    {
     "data": {
      "text/plain": [
       "<folium.map.Marker at 0x15eefa1f278>"
      ]
     },
     "execution_count": 56,
     "metadata": {},
     "output_type": "execute_result"
    },
    {
     "data": {
      "text/plain": [
       "<folium.map.Marker at 0x15eef55c128>"
      ]
     },
     "execution_count": 56,
     "metadata": {},
     "output_type": "execute_result"
    },
    {
     "data": {
      "text/plain": [
       "<folium.map.Marker at 0x15eefa1f7f0>"
      ]
     },
     "execution_count": 56,
     "metadata": {},
     "output_type": "execute_result"
    },
    {
     "data": {
      "text/plain": [
       "<folium.map.Marker at 0x15eefa1f9b0>"
      ]
     },
     "execution_count": 56,
     "metadata": {},
     "output_type": "execute_result"
    },
    {
     "data": {
      "text/plain": [
       "<folium.map.Marker at 0x15eefa1fb38>"
      ]
     },
     "execution_count": 56,
     "metadata": {},
     "output_type": "execute_result"
    },
    {
     "data": {
      "text/plain": [
       "<folium.map.Marker at 0x15eefa1fcc0>"
      ]
     },
     "execution_count": 56,
     "metadata": {},
     "output_type": "execute_result"
    },
    {
     "data": {
      "text/plain": [
       "<folium.map.Marker at 0x15eefa1fd68>"
      ]
     },
     "execution_count": 56,
     "metadata": {},
     "output_type": "execute_result"
    },
    {
     "data": {
      "text/plain": [
       "<folium.map.Marker at 0x15eefa1ffd0>"
      ]
     },
     "execution_count": 56,
     "metadata": {},
     "output_type": "execute_result"
    },
    {
     "data": {
      "text/plain": [
       "<folium.map.Marker at 0x15eefa30048>"
      ]
     },
     "execution_count": 56,
     "metadata": {},
     "output_type": "execute_result"
    },
    {
     "data": {
      "text/plain": [
       "<folium.map.Marker at 0x15eefa30320>"
      ]
     },
     "execution_count": 56,
     "metadata": {},
     "output_type": "execute_result"
    },
    {
     "data": {
      "text/plain": [
       "<folium.map.Marker at 0x15eefa304a8>"
      ]
     },
     "execution_count": 56,
     "metadata": {},
     "output_type": "execute_result"
    },
    {
     "data": {
      "text/plain": [
       "<folium.map.Marker at 0x15eefa30630>"
      ]
     },
     "execution_count": 56,
     "metadata": {},
     "output_type": "execute_result"
    },
    {
     "data": {
      "text/plain": [
       "<folium.map.Marker at 0x15eefa307b8>"
      ]
     },
     "execution_count": 56,
     "metadata": {},
     "output_type": "execute_result"
    },
    {
     "data": {
      "text/plain": [
       "<folium.map.Marker at 0x15eefa30940>"
      ]
     },
     "execution_count": 56,
     "metadata": {},
     "output_type": "execute_result"
    },
    {
     "data": {
      "text/plain": [
       "<folium.map.Marker at 0x15eefa30ac8>"
      ]
     },
     "execution_count": 56,
     "metadata": {},
     "output_type": "execute_result"
    },
    {
     "data": {
      "text/plain": [
       "<folium.map.Marker at 0x15eefa30198>"
      ]
     },
     "execution_count": 56,
     "metadata": {},
     "output_type": "execute_result"
    },
    {
     "data": {
      "text/plain": [
       "<folium.map.Marker at 0x15eefa30c50>"
      ]
     },
     "execution_count": 56,
     "metadata": {},
     "output_type": "execute_result"
    },
    {
     "data": {
      "text/plain": [
       "<folium.map.Marker at 0x15eefa30f60>"
      ]
     },
     "execution_count": 56,
     "metadata": {},
     "output_type": "execute_result"
    },
    {
     "data": {
      "text/plain": [
       "<folium.map.Marker at 0x15eefa45128>"
      ]
     },
     "execution_count": 56,
     "metadata": {},
     "output_type": "execute_result"
    },
    {
     "data": {
      "text/plain": [
       "<folium.map.Marker at 0x15eefa452b0>"
      ]
     },
     "execution_count": 56,
     "metadata": {},
     "output_type": "execute_result"
    },
    {
     "data": {
      "text/plain": [
       "<folium.map.Marker at 0x15eefa45438>"
      ]
     },
     "execution_count": 56,
     "metadata": {},
     "output_type": "execute_result"
    },
    {
     "data": {
      "text/plain": [
       "<folium.map.Marker at 0x15eefa455c0>"
      ]
     },
     "execution_count": 56,
     "metadata": {},
     "output_type": "execute_result"
    },
    {
     "data": {
      "text/plain": [
       "<folium.map.Marker at 0x15eefa45748>"
      ]
     },
     "execution_count": 56,
     "metadata": {},
     "output_type": "execute_result"
    },
    {
     "data": {
      "text/plain": [
       "<folium.map.Marker at 0x15eefa458d0>"
      ]
     },
     "execution_count": 56,
     "metadata": {},
     "output_type": "execute_result"
    },
    {
     "data": {
      "text/plain": [
       "<folium.map.Marker at 0x15eefa45a58>"
      ]
     },
     "execution_count": 56,
     "metadata": {},
     "output_type": "execute_result"
    },
    {
     "data": {
      "text/plain": [
       "<folium.map.Marker at 0x15eefa45be0>"
      ]
     },
     "execution_count": 56,
     "metadata": {},
     "output_type": "execute_result"
    },
    {
     "data": {
      "text/plain": [
       "<folium.map.Marker at 0x15eefa45d68>"
      ]
     },
     "execution_count": 56,
     "metadata": {},
     "output_type": "execute_result"
    },
    {
     "data": {
      "text/plain": [
       "<folium.map.Marker at 0x15eefa45ef0>"
      ]
     },
     "execution_count": 56,
     "metadata": {},
     "output_type": "execute_result"
    },
    {
     "data": {
      "text/plain": [
       "<folium.map.Marker at 0x15eef55c400>"
      ]
     },
     "execution_count": 56,
     "metadata": {},
     "output_type": "execute_result"
    },
    {
     "data": {
      "text/plain": [
       "<folium.map.Marker at 0x15eefa58240>"
      ]
     },
     "execution_count": 56,
     "metadata": {},
     "output_type": "execute_result"
    },
    {
     "data": {
      "text/plain": [
       "<folium.map.Marker at 0x15eefa583c8>"
      ]
     },
     "execution_count": 56,
     "metadata": {},
     "output_type": "execute_result"
    },
    {
     "data": {
      "text/plain": [
       "<folium.map.Marker at 0x15eefa58550>"
      ]
     },
     "execution_count": 56,
     "metadata": {},
     "output_type": "execute_result"
    },
    {
     "data": {
      "text/plain": [
       "<folium.map.Marker at 0x15eefa586d8>"
      ]
     },
     "execution_count": 56,
     "metadata": {},
     "output_type": "execute_result"
    },
    {
     "data": {
      "text/plain": [
       "<folium.map.Marker at 0x15eefa58860>"
      ]
     },
     "execution_count": 56,
     "metadata": {},
     "output_type": "execute_result"
    },
    {
     "data": {
      "text/plain": [
       "<folium.map.Marker at 0x15eefa589e8>"
      ]
     },
     "execution_count": 56,
     "metadata": {},
     "output_type": "execute_result"
    },
    {
     "data": {
      "text/plain": [
       "<folium.map.Marker at 0x15eefa58c18>"
      ]
     },
     "execution_count": 56,
     "metadata": {},
     "output_type": "execute_result"
    },
    {
     "data": {
      "text/plain": [
       "<folium.map.Marker at 0x15eefa58d68>"
      ]
     },
     "execution_count": 56,
     "metadata": {},
     "output_type": "execute_result"
    },
    {
     "data": {
      "text/plain": [
       "<folium.map.Marker at 0x15eefa58e80>"
      ]
     },
     "execution_count": 56,
     "metadata": {},
     "output_type": "execute_result"
    },
    {
     "data": {
      "text/plain": [
       "<folium.map.Marker at 0x15eefa6a048>"
      ]
     },
     "execution_count": 56,
     "metadata": {},
     "output_type": "execute_result"
    },
    {
     "data": {
      "text/plain": [
       "<folium.map.Marker at 0x15eefa6a1d0>"
      ]
     },
     "execution_count": 56,
     "metadata": {},
     "output_type": "execute_result"
    },
    {
     "data": {
      "text/plain": [
       "<folium.map.Marker at 0x15eefa6a358>"
      ]
     },
     "execution_count": 56,
     "metadata": {},
     "output_type": "execute_result"
    },
    {
     "data": {
      "text/plain": [
       "<folium.map.Marker at 0x15eefa6a4e0>"
      ]
     },
     "execution_count": 56,
     "metadata": {},
     "output_type": "execute_result"
    },
    {
     "data": {
      "text/plain": [
       "<folium.map.Marker at 0x15eefa6a668>"
      ]
     },
     "execution_count": 56,
     "metadata": {},
     "output_type": "execute_result"
    },
    {
     "data": {
      "text/plain": [
       "<folium.map.Marker at 0x15eefa6a7f0>"
      ]
     },
     "execution_count": 56,
     "metadata": {},
     "output_type": "execute_result"
    },
    {
     "data": {
      "text/plain": [
       "<folium.map.Marker at 0x15eefa6a978>"
      ]
     },
     "execution_count": 56,
     "metadata": {},
     "output_type": "execute_result"
    },
    {
     "data": {
      "text/plain": [
       "<folium.map.Marker at 0x15eefa6ab00>"
      ]
     },
     "execution_count": 56,
     "metadata": {},
     "output_type": "execute_result"
    },
    {
     "data": {
      "text/plain": [
       "<folium.map.Marker at 0x15eefa6ac88>"
      ]
     },
     "execution_count": 56,
     "metadata": {},
     "output_type": "execute_result"
    },
    {
     "data": {
      "text/plain": [
       "<folium.map.Marker at 0x15eefa6aef0>"
      ]
     },
     "execution_count": 56,
     "metadata": {},
     "output_type": "execute_result"
    },
    {
     "data": {
      "text/plain": [
       "<folium.map.Marker at 0x15eefa6afd0>"
      ]
     },
     "execution_count": 56,
     "metadata": {},
     "output_type": "execute_result"
    },
    {
     "data": {
      "text/plain": [
       "<folium.map.Marker at 0x15eefa7d198>"
      ]
     },
     "execution_count": 56,
     "metadata": {},
     "output_type": "execute_result"
    },
    {
     "data": {
      "text/plain": [
       "<folium.map.Marker at 0x15eefa7d320>"
      ]
     },
     "execution_count": 56,
     "metadata": {},
     "output_type": "execute_result"
    },
    {
     "data": {
      "text/plain": [
       "<folium.map.Marker at 0x15eefa7d4a8>"
      ]
     },
     "execution_count": 56,
     "metadata": {},
     "output_type": "execute_result"
    },
    {
     "data": {
      "text/plain": [
       "<folium.map.Marker at 0x15eefa7d630>"
      ]
     },
     "execution_count": 56,
     "metadata": {},
     "output_type": "execute_result"
    },
    {
     "data": {
      "text/plain": [
       "<folium.map.Marker at 0x15eefa7d7b8>"
      ]
     },
     "execution_count": 56,
     "metadata": {},
     "output_type": "execute_result"
    },
    {
     "data": {
      "text/plain": [
       "<folium.map.Marker at 0x15eefa7d940>"
      ]
     },
     "execution_count": 56,
     "metadata": {},
     "output_type": "execute_result"
    },
    {
     "data": {
      "text/plain": [
       "<folium.map.Marker at 0x15eefa7dac8>"
      ]
     },
     "execution_count": 56,
     "metadata": {},
     "output_type": "execute_result"
    },
    {
     "data": {
      "text/plain": [
       "<folium.map.Marker at 0x15eefa7dc50>"
      ]
     },
     "execution_count": 56,
     "metadata": {},
     "output_type": "execute_result"
    },
    {
     "data": {
      "text/plain": [
       "<folium.map.Marker at 0x15eefa7ddd8>"
      ]
     },
     "execution_count": 56,
     "metadata": {},
     "output_type": "execute_result"
    },
    {
     "data": {
      "text/plain": [
       "<folium.map.Marker at 0x15eefa7df60>"
      ]
     },
     "execution_count": 56,
     "metadata": {},
     "output_type": "execute_result"
    },
    {
     "data": {
      "text/plain": [
       "<folium.map.Marker at 0x15eefa7f128>"
      ]
     },
     "execution_count": 56,
     "metadata": {},
     "output_type": "execute_result"
    },
    {
     "data": {
      "text/plain": [
       "<folium.map.Marker at 0x15eefa7f2b0>"
      ]
     },
     "execution_count": 56,
     "metadata": {},
     "output_type": "execute_result"
    },
    {
     "data": {
      "text/plain": [
       "<folium.map.Marker at 0x15eefa7f438>"
      ]
     },
     "execution_count": 56,
     "metadata": {},
     "output_type": "execute_result"
    },
    {
     "data": {
      "text/plain": [
       "<folium.map.Marker at 0x15eefa7f668>"
      ]
     },
     "execution_count": 56,
     "metadata": {},
     "output_type": "execute_result"
    },
    {
     "data": {
      "text/plain": [
       "<folium.map.Marker at 0x15eefa7f748>"
      ]
     },
     "execution_count": 56,
     "metadata": {},
     "output_type": "execute_result"
    },
    {
     "data": {
      "text/plain": [
       "<folium.map.Marker at 0x15eefa7f8d0>"
      ]
     },
     "execution_count": 56,
     "metadata": {},
     "output_type": "execute_result"
    },
    {
     "data": {
      "text/plain": [
       "<folium.map.Marker at 0x15eefa7fb00>"
      ]
     },
     "execution_count": 56,
     "metadata": {},
     "output_type": "execute_result"
    },
    {
     "data": {
      "text/plain": [
       "<folium.map.Marker at 0x15eefa7fcc0>"
      ]
     },
     "execution_count": 56,
     "metadata": {},
     "output_type": "execute_result"
    },
    {
     "data": {
      "text/plain": [
       "<folium.map.Marker at 0x15eefa7fe80>"
      ]
     },
     "execution_count": 56,
     "metadata": {},
     "output_type": "execute_result"
    },
    {
     "data": {
      "text/plain": [
       "<folium.map.Marker at 0x15eefa9c0b8>"
      ]
     },
     "execution_count": 56,
     "metadata": {},
     "output_type": "execute_result"
    },
    {
     "data": {
      "text/plain": [
       "<folium.map.Marker at 0x15eefa9c240>"
      ]
     },
     "execution_count": 56,
     "metadata": {},
     "output_type": "execute_result"
    },
    {
     "data": {
      "text/plain": [
       "<folium.map.Marker at 0x15eefa9c400>"
      ]
     },
     "execution_count": 56,
     "metadata": {},
     "output_type": "execute_result"
    },
    {
     "data": {
      "text/plain": [
       "<folium.map.Marker at 0x15eefa9c5c0>"
      ]
     },
     "execution_count": 56,
     "metadata": {},
     "output_type": "execute_result"
    },
    {
     "data": {
      "text/plain": [
       "<folium.map.Marker at 0x15eefa9c828>"
      ]
     },
     "execution_count": 56,
     "metadata": {},
     "output_type": "execute_result"
    },
    {
     "data": {
      "text/plain": [
       "<folium.map.Marker at 0x15eefa9c940>"
      ]
     },
     "execution_count": 56,
     "metadata": {},
     "output_type": "execute_result"
    },
    {
     "data": {
      "text/plain": [
       "<folium.map.Marker at 0x15eefa9cb00>"
      ]
     },
     "execution_count": 56,
     "metadata": {},
     "output_type": "execute_result"
    },
    {
     "data": {
      "text/plain": [
       "<folium.map.Marker at 0x15eefa9cc88>"
      ]
     },
     "execution_count": 56,
     "metadata": {},
     "output_type": "execute_result"
    },
    {
     "data": {
      "text/plain": [
       "<folium.map.Marker at 0x15eefa9ce48>"
      ]
     },
     "execution_count": 56,
     "metadata": {},
     "output_type": "execute_result"
    },
    {
     "data": {
      "text/plain": [
       "<folium.map.Marker at 0x15eefaac080>"
      ]
     },
     "execution_count": 56,
     "metadata": {},
     "output_type": "execute_result"
    },
    {
     "data": {
      "text/plain": [
       "<folium.map.Marker at 0x15eefaac208>"
      ]
     },
     "execution_count": 56,
     "metadata": {},
     "output_type": "execute_result"
    },
    {
     "data": {
      "text/plain": [
       "<folium.map.Marker at 0x15eefaac3c8>"
      ]
     },
     "execution_count": 56,
     "metadata": {},
     "output_type": "execute_result"
    },
    {
     "data": {
      "text/plain": [
       "<folium.map.Marker at 0x15eefaac588>"
      ]
     },
     "execution_count": 56,
     "metadata": {},
     "output_type": "execute_result"
    },
    {
     "data": {
      "text/plain": [
       "<folium.map.Marker at 0x15eefaac748>"
      ]
     },
     "execution_count": 56,
     "metadata": {},
     "output_type": "execute_result"
    },
    {
     "data": {
      "text/plain": [
       "<folium.map.Marker at 0x15eefaac908>"
      ]
     },
     "execution_count": 56,
     "metadata": {},
     "output_type": "execute_result"
    },
    {
     "data": {
      "text/plain": [
       "<folium.map.Marker at 0x15eefaacac8>"
      ]
     },
     "execution_count": 56,
     "metadata": {},
     "output_type": "execute_result"
    },
    {
     "data": {
      "text/plain": [
       "<folium.map.Marker at 0x15eefaacc88>"
      ]
     },
     "execution_count": 56,
     "metadata": {},
     "output_type": "execute_result"
    },
    {
     "data": {
      "text/plain": [
       "<folium.map.Marker at 0x15eefaace48>"
      ]
     },
     "execution_count": 56,
     "metadata": {},
     "output_type": "execute_result"
    },
    {
     "data": {
      "text/plain": [
       "<folium.map.Marker at 0x15eefaacfd0>"
      ]
     },
     "execution_count": 56,
     "metadata": {},
     "output_type": "execute_result"
    },
    {
     "data": {
      "text/plain": [
       "<folium.map.Marker at 0x15eefab1208>"
      ]
     },
     "execution_count": 56,
     "metadata": {},
     "output_type": "execute_result"
    },
    {
     "data": {
      "text/plain": [
       "<folium.map.Marker at 0x15eefab1320>"
      ]
     },
     "execution_count": 56,
     "metadata": {},
     "output_type": "execute_result"
    },
    {
     "data": {
      "text/plain": [
       "<folium.map.Marker at 0x15eefab1358>"
      ]
     },
     "execution_count": 56,
     "metadata": {},
     "output_type": "execute_result"
    },
    {
     "data": {
      "text/plain": [
       "<folium.map.Marker at 0x15eefab15f8>"
      ]
     },
     "execution_count": 56,
     "metadata": {},
     "output_type": "execute_result"
    },
    {
     "data": {
      "text/plain": [
       "<folium.map.Marker at 0x15eefab17b8>"
      ]
     },
     "execution_count": 56,
     "metadata": {},
     "output_type": "execute_result"
    },
    {
     "data": {
      "text/plain": [
       "<folium.map.Marker at 0x15eefab1550>"
      ]
     },
     "execution_count": 56,
     "metadata": {},
     "output_type": "execute_result"
    },
    {
     "data": {
      "text/plain": [
       "<folium.map.Marker at 0x15eefab1ac8>"
      ]
     },
     "execution_count": 56,
     "metadata": {},
     "output_type": "execute_result"
    },
    {
     "data": {
      "text/plain": [
       "<folium.map.Marker at 0x15eefab1b38>"
      ]
     },
     "execution_count": 56,
     "metadata": {},
     "output_type": "execute_result"
    },
    {
     "data": {
      "text/plain": [
       "<folium.map.Marker at 0x15eefab1dd8>"
      ]
     },
     "execution_count": 56,
     "metadata": {},
     "output_type": "execute_result"
    },
    {
     "data": {
      "text/plain": [
       "<folium.map.Marker at 0x15eefab1f60>"
      ]
     },
     "execution_count": 56,
     "metadata": {},
     "output_type": "execute_result"
    },
    {
     "data": {
      "text/plain": [
       "<folium.map.Marker at 0x15eefacb198>"
      ]
     },
     "execution_count": 56,
     "metadata": {},
     "output_type": "execute_result"
    },
    {
     "data": {
      "text/plain": [
       "<folium.map.Marker at 0x15eefacb278>"
      ]
     },
     "execution_count": 56,
     "metadata": {},
     "output_type": "execute_result"
    },
    {
     "data": {
      "text/plain": [
       "<folium.map.Marker at 0x15eefacb438>"
      ]
     },
     "execution_count": 56,
     "metadata": {},
     "output_type": "execute_result"
    },
    {
     "data": {
      "text/plain": [
       "<folium.map.Marker at 0x15eefacb630>"
      ]
     },
     "execution_count": 56,
     "metadata": {},
     "output_type": "execute_result"
    },
    {
     "data": {
      "text/plain": [
       "<folium.map.Marker at 0x15eefacb748>"
      ]
     },
     "execution_count": 56,
     "metadata": {},
     "output_type": "execute_result"
    },
    {
     "data": {
      "text/plain": [
       "<folium.map.Marker at 0x15eefacb8d0>"
      ]
     },
     "execution_count": 56,
     "metadata": {},
     "output_type": "execute_result"
    },
    {
     "data": {
      "text/plain": [
       "<folium.map.Marker at 0x15eefacbac8>"
      ]
     },
     "execution_count": 56,
     "metadata": {},
     "output_type": "execute_result"
    },
    {
     "data": {
      "text/plain": [
       "<folium.map.Marker at 0x15eefacbbe0>"
      ]
     },
     "execution_count": 56,
     "metadata": {},
     "output_type": "execute_result"
    },
    {
     "data": {
      "text/plain": [
       "<folium.map.Marker at 0x15eefacbdd8>"
      ]
     },
     "execution_count": 56,
     "metadata": {},
     "output_type": "execute_result"
    },
    {
     "data": {
      "text/plain": [
       "<folium.map.Marker at 0x15eefacbeb8>"
      ]
     },
     "execution_count": 56,
     "metadata": {},
     "output_type": "execute_result"
    },
    {
     "data": {
      "text/plain": [
       "<folium.map.Marker at 0x15eefadb0f0>"
      ]
     },
     "execution_count": 56,
     "metadata": {},
     "output_type": "execute_result"
    },
    {
     "data": {
      "text/plain": [
       "<folium.map.Marker at 0x15eefadb2b0>"
      ]
     },
     "execution_count": 56,
     "metadata": {},
     "output_type": "execute_result"
    },
    {
     "data": {
      "text/plain": [
       "<folium.map.Marker at 0x15eefadb390>"
      ]
     },
     "execution_count": 56,
     "metadata": {},
     "output_type": "execute_result"
    },
    {
     "data": {
      "text/plain": [
       "<folium.map.Marker at 0x15eefadb5c0>"
      ]
     },
     "execution_count": 56,
     "metadata": {},
     "output_type": "execute_result"
    },
    {
     "data": {
      "text/plain": [
       "<folium.map.Marker at 0x15eefadb6d8>"
      ]
     },
     "execution_count": 56,
     "metadata": {},
     "output_type": "execute_result"
    },
    {
     "data": {
      "text/plain": [
       "<folium.map.Marker at 0x15eefadb748>"
      ]
     },
     "execution_count": 56,
     "metadata": {},
     "output_type": "execute_result"
    },
    {
     "data": {
      "text/plain": [
       "<folium.map.Marker at 0x15eefadb9e8>"
      ]
     },
     "execution_count": 56,
     "metadata": {},
     "output_type": "execute_result"
    },
    {
     "data": {
      "text/plain": [
       "<folium.map.Marker at 0x15eefadbb70>"
      ]
     },
     "execution_count": 56,
     "metadata": {},
     "output_type": "execute_result"
    },
    {
     "data": {
      "text/plain": [
       "<folium.map.Marker at 0x15eefadbd68>"
      ]
     },
     "execution_count": 56,
     "metadata": {},
     "output_type": "execute_result"
    },
    {
     "data": {
      "text/plain": [
       "<folium.map.Marker at 0x15eefadbe48>"
      ]
     },
     "execution_count": 56,
     "metadata": {},
     "output_type": "execute_result"
    },
    {
     "data": {
      "text/plain": [
       "<folium.map.Marker at 0x15eefaee080>"
      ]
     },
     "execution_count": 56,
     "metadata": {},
     "output_type": "execute_result"
    },
    {
     "data": {
      "text/plain": [
       "<folium.map.Marker at 0x15eefaee240>"
      ]
     },
     "execution_count": 56,
     "metadata": {},
     "output_type": "execute_result"
    },
    {
     "data": {
      "text/plain": [
       "<folium.map.Marker at 0x15eefaee358>"
      ]
     },
     "execution_count": 56,
     "metadata": {},
     "output_type": "execute_result"
    },
    {
     "data": {
      "text/plain": [
       "<folium.map.Marker at 0x15eefaee550>"
      ]
     },
     "execution_count": 56,
     "metadata": {},
     "output_type": "execute_result"
    },
    {
     "data": {
      "text/plain": [
       "<folium.map.Marker at 0x15eefaee6a0>"
      ]
     },
     "execution_count": 56,
     "metadata": {},
     "output_type": "execute_result"
    },
    {
     "data": {
      "text/plain": [
       "<folium.map.Marker at 0x15eefaee860>"
      ]
     },
     "execution_count": 56,
     "metadata": {},
     "output_type": "execute_result"
    },
    {
     "data": {
      "text/plain": [
       "<folium.map.Marker at 0x15eefaee9e8>"
      ]
     },
     "execution_count": 56,
     "metadata": {},
     "output_type": "execute_result"
    },
    {
     "data": {
      "text/plain": [
       "<folium.map.Marker at 0x15eefaeeb00>"
      ]
     },
     "execution_count": 56,
     "metadata": {},
     "output_type": "execute_result"
    },
    {
     "data": {
      "text/plain": [
       "<folium.map.Marker at 0x15eefaeec88>"
      ]
     },
     "execution_count": 56,
     "metadata": {},
     "output_type": "execute_result"
    },
    {
     "data": {
      "text/plain": [
       "<folium.map.Marker at 0x15eefaeed30>"
      ]
     },
     "execution_count": 56,
     "metadata": {},
     "output_type": "execute_result"
    },
    {
     "data": {
      "text/plain": [
       "<folium.map.Marker at 0x15eefaeef98>"
      ]
     },
     "execution_count": 56,
     "metadata": {},
     "output_type": "execute_result"
    },
    {
     "data": {
      "text/plain": [
       "<folium.map.Marker at 0x15eefaff160>"
      ]
     },
     "execution_count": 56,
     "metadata": {},
     "output_type": "execute_result"
    },
    {
     "data": {
      "text/plain": [
       "<folium.map.Marker at 0x15eefaff358>"
      ]
     },
     "execution_count": 56,
     "metadata": {},
     "output_type": "execute_result"
    },
    {
     "data": {
      "text/plain": [
       "<folium.map.Marker at 0x15eefaff438>"
      ]
     },
     "execution_count": 56,
     "metadata": {},
     "output_type": "execute_result"
    },
    {
     "data": {
      "text/plain": [
       "<folium.map.Marker at 0x15eefaff470>"
      ]
     },
     "execution_count": 56,
     "metadata": {},
     "output_type": "execute_result"
    },
    {
     "data": {
      "text/plain": [
       "<folium.map.Marker at 0x15eefaff828>"
      ]
     },
     "execution_count": 56,
     "metadata": {},
     "output_type": "execute_result"
    },
    {
     "data": {
      "text/plain": [
       "<folium.map.Marker at 0x15eefaff940>"
      ]
     },
     "execution_count": 56,
     "metadata": {},
     "output_type": "execute_result"
    },
    {
     "data": {
      "text/plain": [
       "<folium.map.Marker at 0x15eefaffb38>"
      ]
     },
     "execution_count": 56,
     "metadata": {},
     "output_type": "execute_result"
    },
    {
     "data": {
      "text/plain": [
       "<folium.map.Marker at 0x15eefaffcc0>"
      ]
     },
     "execution_count": 56,
     "metadata": {},
     "output_type": "execute_result"
    },
    {
     "data": {
      "text/plain": [
       "<folium.map.Marker at 0x15eefaffdd8>"
      ]
     },
     "execution_count": 56,
     "metadata": {},
     "output_type": "execute_result"
    },
    {
     "data": {
      "text/plain": [
       "<folium.map.Marker at 0x15eefaffe48>"
      ]
     },
     "execution_count": 56,
     "metadata": {},
     "output_type": "execute_result"
    },
    {
     "data": {
      "text/plain": [
       "<folium.map.Marker at 0x15eefb0e128>"
      ]
     },
     "execution_count": 56,
     "metadata": {},
     "output_type": "execute_result"
    },
    {
     "data": {
      "text/plain": [
       "<folium.map.Marker at 0x15eefb0e2b0>"
      ]
     },
     "execution_count": 56,
     "metadata": {},
     "output_type": "execute_result"
    },
    {
     "data": {
      "text/plain": [
       "<folium.map.Marker at 0x15eefb0e358>"
      ]
     },
     "execution_count": 56,
     "metadata": {},
     "output_type": "execute_result"
    },
    {
     "data": {
      "text/plain": [
       "<folium.map.Marker at 0x15eefb0e630>"
      ]
     },
     "execution_count": 56,
     "metadata": {},
     "output_type": "execute_result"
    },
    {
     "data": {
      "text/plain": [
       "<folium.map.Marker at 0x15eefb0e710>"
      ]
     },
     "execution_count": 56,
     "metadata": {},
     "output_type": "execute_result"
    },
    {
     "data": {
      "text/plain": [
       "<folium.map.Marker at 0x15eefb0e978>"
      ]
     },
     "execution_count": 56,
     "metadata": {},
     "output_type": "execute_result"
    },
    {
     "data": {
      "text/plain": [
       "<folium.map.Marker at 0x15eefb0ea58>"
      ]
     },
     "execution_count": 56,
     "metadata": {},
     "output_type": "execute_result"
    },
    {
     "data": {
      "text/plain": [
       "<folium.map.Marker at 0x15eefb0ec88>"
      ]
     },
     "execution_count": 56,
     "metadata": {},
     "output_type": "execute_result"
    },
    {
     "data": {
      "text/plain": [
       "<folium.map.Marker at 0x15eefb0ed68>"
      ]
     },
     "execution_count": 56,
     "metadata": {},
     "output_type": "execute_result"
    },
    {
     "data": {
      "text/plain": [
       "<folium.map.Marker at 0x15eefb0eef0>"
      ]
     },
     "execution_count": 56,
     "metadata": {},
     "output_type": "execute_result"
    },
    {
     "data": {
      "text/plain": [
       "<folium.map.Marker at 0x15eefb190b8>"
      ]
     },
     "execution_count": 56,
     "metadata": {},
     "output_type": "execute_result"
    },
    {
     "data": {
      "text/plain": [
       "<folium.map.Marker at 0x15eefb19240>"
      ]
     },
     "execution_count": 56,
     "metadata": {},
     "output_type": "execute_result"
    },
    {
     "data": {
      "text/plain": [
       "<folium.map.Marker at 0x15eefb193c8>"
      ]
     },
     "execution_count": 56,
     "metadata": {},
     "output_type": "execute_result"
    },
    {
     "data": {
      "text/plain": [
       "<folium.map.Marker at 0x15eefb19550>"
      ]
     },
     "execution_count": 56,
     "metadata": {},
     "output_type": "execute_result"
    },
    {
     "data": {
      "text/plain": [
       "<folium.map.Marker at 0x15eefb197b8>"
      ]
     },
     "execution_count": 56,
     "metadata": {},
     "output_type": "execute_result"
    },
    {
     "data": {
      "text/plain": [
       "<folium.map.Marker at 0x15eefb19898>"
      ]
     },
     "execution_count": 56,
     "metadata": {},
     "output_type": "execute_result"
    },
    {
     "data": {
      "text/plain": [
       "<folium.map.Marker at 0x15eefb19a20>"
      ]
     },
     "execution_count": 56,
     "metadata": {},
     "output_type": "execute_result"
    },
    {
     "data": {
      "text/plain": [
       "<folium.map.Marker at 0x15eefb19ba8>"
      ]
     },
     "execution_count": 56,
     "metadata": {},
     "output_type": "execute_result"
    },
    {
     "data": {
      "text/plain": [
       "<folium.map.Marker at 0x15eefb19d30>"
      ]
     },
     "execution_count": 56,
     "metadata": {},
     "output_type": "execute_result"
    },
    {
     "data": {
      "text/plain": [
       "<folium.map.Marker at 0x15eefb19eb8>"
      ]
     },
     "execution_count": 56,
     "metadata": {},
     "output_type": "execute_result"
    },
    {
     "data": {
      "text/plain": [
       "<folium.map.Marker at 0x15eefb2d080>"
      ]
     },
     "execution_count": 56,
     "metadata": {},
     "output_type": "execute_result"
    },
    {
     "data": {
      "text/plain": [
       "<folium.map.Marker at 0x15eefb2d208>"
      ]
     },
     "execution_count": 56,
     "metadata": {},
     "output_type": "execute_result"
    },
    {
     "data": {
      "text/plain": [
       "<folium.map.Marker at 0x15eefb2d390>"
      ]
     },
     "execution_count": 56,
     "metadata": {},
     "output_type": "execute_result"
    },
    {
     "name": "stderr",
     "output_type": "stream",
     "text": [
      "C:\\Users\\krmurph1\\Anaconda3\\envs\\dev\\lib\\site-packages\\ipykernel_launcher.py:14: UserWarning: color argument of Icon should be one of: {'gray', 'lightred', 'blue', 'pink', 'lightblue', 'black', 'beige', 'darkgreen', 'lightgreen', 'cadetblue', 'darkpurple', 'purple', 'darkred', 'red', 'darkblue', 'lightgray', 'white', 'orange', 'green'}.\n",
      "  \n"
     ]
    },
    {
     "data": {
      "text/plain": [
       "<folium.map.Marker at 0x15eefb2d5f8>"
      ]
     },
     "execution_count": 56,
     "metadata": {},
     "output_type": "execute_result"
    },
    {
     "data": {
      "text/plain": [
       "<folium.map.Marker at 0x15eefb2d748>"
      ]
     },
     "execution_count": 56,
     "metadata": {},
     "output_type": "execute_result"
    },
    {
     "data": {
      "text/plain": [
       "<folium.map.Marker at 0x15eefb0e8d0>"
      ]
     },
     "execution_count": 56,
     "metadata": {},
     "output_type": "execute_result"
    },
    {
     "data": {
      "text/plain": [
       "<folium.map.Marker at 0x15eefb2d978>"
      ]
     },
     "execution_count": 56,
     "metadata": {},
     "output_type": "execute_result"
    },
    {
     "data": {
      "text/plain": [
       "<folium.map.Marker at 0x15eefb2db00>"
      ]
     },
     "execution_count": 56,
     "metadata": {},
     "output_type": "execute_result"
    },
    {
     "data": {
      "text/plain": [
       "<folium.map.Marker at 0x15eefb2dc88>"
      ]
     },
     "execution_count": 56,
     "metadata": {},
     "output_type": "execute_result"
    },
    {
     "data": {
      "text/plain": [
       "<folium.map.Marker at 0x15eefb2de10>"
      ]
     },
     "execution_count": 56,
     "metadata": {},
     "output_type": "execute_result"
    },
    {
     "data": {
      "text/plain": [
       "<folium.map.Marker at 0x15eefb2dfd0>"
      ]
     },
     "execution_count": 56,
     "metadata": {},
     "output_type": "execute_result"
    },
    {
     "data": {
      "text/plain": [
       "<folium.map.Marker at 0x15eefb40160>"
      ]
     },
     "execution_count": 56,
     "metadata": {},
     "output_type": "execute_result"
    },
    {
     "data": {
      "text/plain": [
       "<folium.map.Marker at 0x15eefb402e8>"
      ]
     },
     "execution_count": 56,
     "metadata": {},
     "output_type": "execute_result"
    },
    {
     "data": {
      "text/plain": [
       "<folium.map.Marker at 0x15eefb40470>"
      ]
     },
     "execution_count": 56,
     "metadata": {},
     "output_type": "execute_result"
    },
    {
     "data": {
      "text/plain": [
       "<folium.map.Marker at 0x15eefb405f8>"
      ]
     },
     "execution_count": 56,
     "metadata": {},
     "output_type": "execute_result"
    },
    {
     "data": {
      "text/plain": [
       "<folium.map.Marker at 0x15eefb40780>"
      ]
     },
     "execution_count": 56,
     "metadata": {},
     "output_type": "execute_result"
    },
    {
     "data": {
      "text/plain": [
       "<folium.map.Marker at 0x15eefb40908>"
      ]
     },
     "execution_count": 56,
     "metadata": {},
     "output_type": "execute_result"
    },
    {
     "data": {
      "text/plain": [
       "<folium.map.Marker at 0x15eefb40a90>"
      ]
     },
     "execution_count": 56,
     "metadata": {},
     "output_type": "execute_result"
    },
    {
     "data": {
      "text/plain": [
       "<folium.map.Marker at 0x15eefb40c18>"
      ]
     },
     "execution_count": 56,
     "metadata": {},
     "output_type": "execute_result"
    },
    {
     "data": {
      "text/plain": [
       "<folium.map.Marker at 0x15eefb40da0>"
      ]
     },
     "execution_count": 56,
     "metadata": {},
     "output_type": "execute_result"
    },
    {
     "data": {
      "text/plain": [
       "<folium.map.Marker at 0x15eefb40f28>"
      ]
     },
     "execution_count": 56,
     "metadata": {},
     "output_type": "execute_result"
    },
    {
     "data": {
      "text/plain": [
       "<folium.map.Marker at 0x15eefb55198>"
      ]
     },
     "execution_count": 56,
     "metadata": {},
     "output_type": "execute_result"
    },
    {
     "data": {
      "text/plain": [
       "<folium.map.Marker at 0x15eefb55278>"
      ]
     },
     "execution_count": 56,
     "metadata": {},
     "output_type": "execute_result"
    },
    {
     "data": {
      "text/plain": [
       "<folium.map.Marker at 0x15eefb554e0>"
      ]
     },
     "execution_count": 56,
     "metadata": {},
     "output_type": "execute_result"
    },
    {
     "data": {
      "text/plain": [
       "<folium.map.Marker at 0x15eefb555c0>"
      ]
     },
     "execution_count": 56,
     "metadata": {},
     "output_type": "execute_result"
    },
    {
     "data": {
      "text/plain": [
       "<folium.map.Marker at 0x15eefb55748>"
      ]
     },
     "execution_count": 56,
     "metadata": {},
     "output_type": "execute_result"
    },
    {
     "data": {
      "text/plain": [
       "<folium.map.Marker at 0x15eefb558d0>"
      ]
     },
     "execution_count": 56,
     "metadata": {},
     "output_type": "execute_result"
    },
    {
     "data": {
      "text/plain": [
       "<folium.map.Marker at 0x15eefb55a58>"
      ]
     },
     "execution_count": 56,
     "metadata": {},
     "output_type": "execute_result"
    },
    {
     "data": {
      "text/plain": [
       "<folium.map.Marker at 0x15eefb55be0>"
      ]
     },
     "execution_count": 56,
     "metadata": {},
     "output_type": "execute_result"
    },
    {
     "data": {
      "text/plain": [
       "<folium.map.Marker at 0x15eefb55d68>"
      ]
     },
     "execution_count": 56,
     "metadata": {},
     "output_type": "execute_result"
    },
    {
     "data": {
      "text/plain": [
       "<folium.map.Marker at 0x15eefb55ef0>"
      ]
     },
     "execution_count": 56,
     "metadata": {},
     "output_type": "execute_result"
    },
    {
     "data": {
      "text/plain": [
       "<folium.map.Marker at 0x15eefb65128>"
      ]
     },
     "execution_count": 56,
     "metadata": {},
     "output_type": "execute_result"
    },
    {
     "data": {
      "text/plain": [
       "<folium.map.Marker at 0x15eefb650b8>"
      ]
     },
     "execution_count": 56,
     "metadata": {},
     "output_type": "execute_result"
    },
    {
     "data": {
      "text/plain": [
       "<folium.map.Marker at 0x15eefb653c8>"
      ]
     },
     "execution_count": 56,
     "metadata": {},
     "output_type": "execute_result"
    },
    {
     "data": {
      "text/plain": [
       "<folium.map.Marker at 0x15eefb65550>"
      ]
     },
     "execution_count": 56,
     "metadata": {},
     "output_type": "execute_result"
    },
    {
     "data": {
      "text/plain": [
       "<folium.map.Marker at 0x15eefb656d8>"
      ]
     },
     "execution_count": 56,
     "metadata": {},
     "output_type": "execute_result"
    },
    {
     "data": {
      "text/plain": [
       "<folium.map.Marker at 0x15eefb65860>"
      ]
     },
     "execution_count": 56,
     "metadata": {},
     "output_type": "execute_result"
    }
   ],
   "source": [
    "stn_map = folium.Map(location=[40,200],zoom_start=1,\n",
    "                    width=650, height=400)\n",
    "\n",
    "col = ['red','lightred','orange','cadetblue',\n",
    "      'blue','lightblue','purple','lightgreen','lightgray'\n",
    "      'grey','darkblue']\n",
    "\n",
    "\n",
    "\n",
    "for x, y in zip(arrays,col): \n",
    "    stn_dat = data[data['Array'] == x].copy()\n",
    "    for label, row in stn_dat.iterrows():\n",
    "        folium.Marker([row['Latitude'],row['Longitude']], popup='{0} {1}'.format(x,row['Code']),\n",
    "                     icon=folium.Icon(color=y)).add_to(stn_map)\n",
    "    \n",
    "    "
   ]
  },
  {
   "cell_type": "code",
   "execution_count": 57,
   "metadata": {},
   "outputs": [
    {
     "data": {
      "text/html": [
       "<div style=\"width:100%;\"><div style=\"position:relative;width:100%;height:0;padding-bottom:60%;\"><span style=\"color:#565656\">Make this Notebook Trusted to load map: File -> Trust Notebook</span><iframe src=\"about:blank\" style=\"position:absolute;width:100%;height:100%;left:0;top:0;border:none !important;\" data-html=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 onload=\"this.contentDocument.open();this.contentDocument.write(atob(this.getAttribute('data-html')));this.contentDocument.close();\" allowfullscreen webkitallowfullscreen mozallowfullscreen></iframe></div></div>"
      ],
      "text/plain": [
       "<folium.folium.Map at 0x15eefa1f240>"
      ]
     },
     "execution_count": 57,
     "metadata": {},
     "output_type": "execute_result"
    }
   ],
   "source": [
    "stn_map\n",
    "stn_map.save('stn_map.html')"
   ]
  },
  {
   "cell_type": "code",
   "execution_count": null,
   "metadata": {},
   "outputs": [],
   "source": []
  }
 ],
 "metadata": {
  "kernelspec": {
   "display_name": "Python 3",
   "language": "python",
   "name": "python3"
  },
  "language_info": {
   "codemirror_mode": {
    "name": "ipython",
    "version": 3
   },
   "file_extension": ".py",
   "mimetype": "text/x-python",
   "name": "python",
   "nbconvert_exporter": "python",
   "pygments_lexer": "ipython3",
   "version": "3.6.5"
  }
 },
 "nbformat": 4,
 "nbformat_minor": 2
}
