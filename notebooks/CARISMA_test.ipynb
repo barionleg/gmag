{
 "cells": [
  {
   "cell_type": "code",
   "execution_count": 1,
   "metadata": {},
   "outputs": [],
   "source": [
    "from IPython.core.interactiveshell import InteractiveShell\n",
    "InteractiveShell.ast_node_interactivity = \"all\"\n",
    "\n",
    "%matplotlib notebook"
   ]
  },
  {
   "cell_type": "code",
   "execution_count": 2,
   "metadata": {},
   "outputs": [],
   "source": [
    "import gmag.arrays.carisma as carisma\n",
    "import pandas as pd\n",
    "import matplotlib.pyplot as plt"
   ]
  },
  {
   "cell_type": "code",
   "execution_count": 3,
   "metadata": {},
   "outputs": [
    {
     "data": {
      "text/html": [
       "<div>\n",
       "<style scoped>\n",
       "    .dataframe tbody tr th:only-of-type {\n",
       "        vertical-align: middle;\n",
       "    }\n",
       "\n",
       "    .dataframe tbody tr th {\n",
       "        vertical-align: top;\n",
       "    }\n",
       "\n",
       "    .dataframe thead th {\n",
       "        text-align: right;\n",
       "    }\n",
       "</style>\n",
       "<table border=\"1\" class=\"dataframe\">\n",
       "  <thead>\n",
       "    <tr style=\"text-align: right;\">\n",
       "      <th></th>\n",
       "      <th>date</th>\n",
       "      <th>fname</th>\n",
       "      <th>dir</th>\n",
       "      <th>hdir</th>\n",
       "    </tr>\n",
       "  </thead>\n",
       "  <tbody>\n",
       "    <tr>\n",
       "      <th>0</th>\n",
       "      <td>2012-01-01</td>\n",
       "      <td>20120101GILL.F01.gz</td>\n",
       "      <td>D:\\data\\magnetometer\\CARISMA\\2012\\01\\01</td>\n",
       "      <td>http://data.carisma.ca/FGM/1Hz/2012/01/01/</td>\n",
       "    </tr>\n",
       "    <tr>\n",
       "      <th>1</th>\n",
       "      <td>2012-01-02</td>\n",
       "      <td>20120102GILL.F01.gz</td>\n",
       "      <td>D:\\data\\magnetometer\\CARISMA\\2012\\01\\02</td>\n",
       "      <td>http://data.carisma.ca/FGM/1Hz/2012/01/02/</td>\n",
       "    </tr>\n",
       "    <tr>\n",
       "      <th>2</th>\n",
       "      <td>2012-01-03</td>\n",
       "      <td>20120103GILL.F01.gz</td>\n",
       "      <td>D:\\data\\magnetometer\\CARISMA\\2012\\01\\03</td>\n",
       "      <td>http://data.carisma.ca/FGM/1Hz/2012/01/03/</td>\n",
       "    </tr>\n",
       "    <tr>\n",
       "      <th>3</th>\n",
       "      <td>2012-01-04</td>\n",
       "      <td>20120104GILL.F01.gz</td>\n",
       "      <td>D:\\data\\magnetometer\\CARISMA\\2012\\01\\04</td>\n",
       "      <td>http://data.carisma.ca/FGM/1Hz/2012/01/04/</td>\n",
       "    </tr>\n",
       "  </tbody>\n",
       "</table>\n",
       "</div>"
      ],
      "text/plain": [
       "        date                fname                                      dir  \\\n",
       "0 2012-01-01  20120101GILL.F01.gz  D:\\data\\magnetometer\\CARISMA\\2012\\01\\01   \n",
       "1 2012-01-02  20120102GILL.F01.gz  D:\\data\\magnetometer\\CARISMA\\2012\\01\\02   \n",
       "2 2012-01-03  20120103GILL.F01.gz  D:\\data\\magnetometer\\CARISMA\\2012\\01\\03   \n",
       "3 2012-01-04  20120104GILL.F01.gz  D:\\data\\magnetometer\\CARISMA\\2012\\01\\04   \n",
       "\n",
       "                                         hdir  \n",
       "0  http://data.carisma.ca/FGM/1Hz/2012/01/01/  \n",
       "1  http://data.carisma.ca/FGM/1Hz/2012/01/02/  \n",
       "2  http://data.carisma.ca/FGM/1Hz/2012/01/03/  \n",
       "3  http://data.carisma.ca/FGM/1Hz/2012/01/04/  "
      ]
     },
     "execution_count": 3,
     "metadata": {},
     "output_type": "execute_result"
    }
   ],
   "source": [
    "fl = carisma.list_files('GILL','2012-01-01',ndays=4)\n",
    "fl.head()"
   ]
  },
  {
   "cell_type": "code",
   "execution_count": 4,
   "metadata": {},
   "outputs": [
    {
     "name": "stdout",
     "output_type": "stream",
     "text": [
      "HTTP file not found http://data.carisma.ca/FGM/1Hz/2020/01/01/20200101GILL.F01.gz\n",
      "HTTP file not found http://data.carisma.ca/FGM/1Hz/2020/01/02/20200102GILL.F01.gz\n",
      "HTTP file not found http://data.carisma.ca/FGM/1Hz/2020/01/03/20200103GILL.F01.gz\n",
      "HTTP file not found http://data.carisma.ca/FGM/1Hz/2020/01/04/20200104GILL.F01.gz\n",
      "HTTP file not found http://data.carisma.ca/FGM/1Hz/2020/01/05/20200105GILL.F01.gz\n"
     ]
    }
   ],
   "source": [
    "#test download\n",
    "carisma.download('GILL','2020-01-01',ndays=5)"
   ]
  },
  {
   "cell_type": "code",
   "execution_count": null,
   "metadata": {},
   "outputs": [],
   "source": [
    "http://data.carisma.ca/FGM/1Hz/2020/01/01/20200101GILL.F01.gz\n",
    "http://data.carisma.ca/FGM/1Hz/2020/01/01/20200101GILL.F01.gz"
   ]
  },
  {
   "cell_type": "code",
   "execution_count": 22,
   "metadata": {},
   "outputs": [],
   "source": [
    "import requests\n",
    "out_dir = 'D:\\\\data\\\\magnetometer\\\\'"
   ]
  },
  {
   "cell_type": "code",
   "execution_count": 33,
   "metadata": {},
   "outputs": [
    {
     "data": {
      "text/plain": [
       "200"
      ]
     },
     "execution_count": 33,
     "metadata": {},
     "output_type": "execute_result"
    },
    {
     "data": {
      "text/plain": [
       "{'Date': 'Wed, 01 Apr 2020 22:53:19 GMT', 'Content-Type': 'application/x-gzip', 'Content-Length': '916818', 'Connection': 'keep-alive', 'Set-Cookie': '__cfduid=d7dd8693722f3bdee0aade48d83c1a68d1585781598; expires=Fri, 01-May-20 22:53:18 GMT; path=/; domain=.carisma.ca; HttpOnly; SameSite=Lax', 'Last-Modified': 'Thu, 02 Jan 2020 13:10:39 GMT', 'ETag': '\"ccc814-dfd52-59b27eb6751c0\"', 'Accept-Ranges': 'bytes', 'X-Clacks-Overhead': 'GNU Terry Pratchett', 'CF-Cache-Status': 'DYNAMIC', 'Server': 'cloudflare', 'CF-RAY': '57d5e2b1ac7bf12e-IAD'}"
      ]
     },
     "execution_count": 33,
     "metadata": {},
     "output_type": "execute_result"
    }
   ],
   "source": [
    "req=requests.get('http://data.carisma.ca/FGM/1Hz/2020/01/01/20200101GILL.F01.gz', timeout=1.0)\n",
    "req.status_code\n",
    "req.headers"
   ]
  },
  {
   "cell_type": "code",
   "execution_count": 41,
   "metadata": {},
   "outputs": [
    {
     "data": {
      "text/plain": [
       "916818"
      ]
     },
     "execution_count": 41,
     "metadata": {},
     "output_type": "execute_result"
    },
    {
     "data": {
      "text/plain": [
       "<bound method Response.close of <Response [200]>>"
      ]
     },
     "execution_count": 41,
     "metadata": {},
     "output_type": "execute_result"
    }
   ],
   "source": [
    "fn = '20200101GILL.F01.gz'\n",
    "open(out_dir+fn,'wb').write(req.content)\n",
    "req.close"
   ]
  },
  {
   "cell_type": "code",
   "execution_count": 42,
   "metadata": {},
   "outputs": [
    {
     "name": "stdout",
     "output_type": "stream",
     "text": [
      "Hello\n"
     ]
    }
   ],
   "source": [
    "if req.raise_for_status() is None:\n",
    "    print('Hello')"
   ]
  },
  {
   "cell_type": "code",
   "execution_count": null,
   "metadata": {},
   "outputs": [],
   "source": []
  }
 ],
 "metadata": {
  "kernelspec": {
   "display_name": "Python 3",
   "language": "python",
   "name": "python3"
  },
  "language_info": {
   "codemirror_mode": {
    "name": "ipython",
    "version": 3
   },
   "file_extension": ".py",
   "mimetype": "text/x-python",
   "name": "python",
   "nbconvert_exporter": "python",
   "pygments_lexer": "ipython3",
   "version": "3.7.3"
  }
 },
 "nbformat": 4,
 "nbformat_minor": 2
}
