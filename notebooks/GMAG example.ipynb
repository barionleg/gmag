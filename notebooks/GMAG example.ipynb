{
 "cells": [
  {
   "cell_type": "code",
   "execution_count": 1,
   "metadata": {},
   "outputs": [],
   "source": [
    "from IPython.core.interactiveshell import InteractiveShell\n",
    "InteractiveShell.ast_node_interactivity = \"all\"\n",
    "\n",
    "%matplotlib notebook"
   ]
  },
  {
   "cell_type": "code",
   "execution_count": 2,
   "metadata": {},
   "outputs": [],
   "source": [
    "import gmag.arrays.carisma as carisma\n",
    "import gmag.arrays.image as image\n",
    "import gmag.arrays.themis as themis\n",
    "import gmag.arrays.canopus as canopus\n",
    "from gmag import utils\n",
    "import pandas as pd\n",
    "import matplotlib.pyplot as plt"
   ]
  },
  {
   "cell_type": "code",
   "execution_count": null,
   "metadata": {},
   "outputs": [],
   "source": [
    "sdate = '2011-01-01'\n",
    "ndays = 1"
   ]
  },
  {
   "cell_type": "code",
   "execution_count": null,
   "metadata": {},
   "outputs": [],
   "source": [
    "#load data\n",
    "df_c=carisma.load('GILL',sdate,ndays=ndays,dl=True)\n",
    "df_i=image.load('KIL',sdate,ndays=ndays,dl=True)\n",
    "df_t=themis.load('GILL',sdate,ndays=ndays,dl=True)"
   ]
  },
  {
   "cell_type": "code",
   "execution_count": null,
   "metadata": {},
   "outputs": [],
   "source": [
    "df_i.tail(n=50)"
   ]
  },
  {
   "cell_type": "code",
   "execution_count": null,
   "metadata": {},
   "outputs": [],
   "source": [
    "r = df_c.join(df_i, how=\"outer\")\n",
    "r2 = r.join(df_t, how=\"outer\")\n",
    "r2.tail(50)"
   ]
  },
  {
   "cell_type": "code",
   "execution_count": 3,
   "metadata": {},
   "outputs": [
    {
     "name": "stdout",
     "output_type": "stream",
     "text": [
      "Downloading Data:\n",
      "Loading: D:\\data\\magnetometer\\CANOPUS\\1995\\06\\GILL\\19950623GILL.MAG.gz\n"
     ]
    }
   ],
   "source": [
    "#load data\n",
    "df_c, meta=canopus.load('GILL','1995-06-23',ndays=1)\n"
   ]
  },
  {
   "cell_type": "code",
   "execution_count": 5,
   "metadata": {},
   "outputs": [
    {
     "data": {
      "text/html": [
       "<div>\n",
       "<style scoped>\n",
       "    .dataframe tbody tr th:only-of-type {\n",
       "        vertical-align: middle;\n",
       "    }\n",
       "\n",
       "    .dataframe tbody tr th {\n",
       "        vertical-align: top;\n",
       "    }\n",
       "\n",
       "    .dataframe thead th {\n",
       "        text-align: right;\n",
       "    }\n",
       "</style>\n",
       "<table border=\"1\" class=\"dataframe\">\n",
       "  <thead>\n",
       "    <tr style=\"text-align: right;\">\n",
       "      <th></th>\n",
       "      <th>array</th>\n",
       "      <th>code</th>\n",
       "      <th>name</th>\n",
       "      <th>latitude</th>\n",
       "      <th>longitude</th>\n",
       "      <th>cgm_latitude</th>\n",
       "      <th>cgm_longitude</th>\n",
       "      <th>declination</th>\n",
       "      <th>lshell</th>\n",
       "      <th>mlt_midnight</th>\n",
       "      <th>mlt_ut</th>\n",
       "      <th>year</th>\n",
       "      <th>Time Resolution</th>\n",
       "      <th>Coordinates</th>\n",
       "      <th>PI</th>\n",
       "      <th>Institution</th>\n",
       "    </tr>\n",
       "  </thead>\n",
       "  <tbody>\n",
       "    <tr>\n",
       "      <th>0</th>\n",
       "      <td>CARISMA</td>\n",
       "      <td>GILL</td>\n",
       "      <td>Gillam</td>\n",
       "      <td>56.376</td>\n",
       "      <td>265.36</td>\n",
       "      <td>66.84059</td>\n",
       "      <td>331.1776</td>\n",
       "      <td>1.751694</td>\n",
       "      <td>6.465065</td>\n",
       "      <td>7.07629</td>\n",
       "      <td>16.92371</td>\n",
       "      <td>1995</td>\n",
       "      <td>5.0</td>\n",
       "      <td>Geographic North - X, Eas - Y, Vertical Down -...</td>\n",
       "      <td>Ian Mann</td>\n",
       "      <td>University of Alberta</td>\n",
       "    </tr>\n",
       "  </tbody>\n",
       "</table>\n",
       "</div>"
      ],
      "text/plain": [
       "     array  code    name  latitude  longitude  cgm_latitude  cgm_longitude  \\\n",
       "0  CARISMA  GILL  Gillam    56.376     265.36      66.84059       331.1776   \n",
       "\n",
       "   declination    lshell  mlt_midnight    mlt_ut  year  Time Resolution  \\\n",
       "0     1.751694  6.465065       7.07629  16.92371  1995              5.0   \n",
       "\n",
       "                                         Coordinates        PI  \\\n",
       "0  Geographic North - X, Eas - Y, Vertical Down -...  Ian Mann   \n",
       "\n",
       "             Institution  \n",
       "0  University of Alberta  "
      ]
     },
     "execution_count": 5,
     "metadata": {},
     "output_type": "execute_result"
    }
   ],
   "source": [
    "meta"
   ]
  }
 ],
 "metadata": {
  "kernelspec": {
   "display_name": "Python 3",
   "language": "python",
   "name": "python3"
  },
  "language_info": {
   "codemirror_mode": {
    "name": "ipython",
    "version": 3
   },
   "file_extension": ".py",
   "mimetype": "text/x-python",
   "name": "python",
   "nbconvert_exporter": "python",
   "pygments_lexer": "ipython3",
   "version": "3.7.3"
  }
 },
 "nbformat": 4,
 "nbformat_minor": 2
}
