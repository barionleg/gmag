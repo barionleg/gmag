{
 "cells": [
  {
   "cell_type": "markdown",
   "metadata": {},
   "source": [
    "# CARISMA and CANOPUS\n",
    "\n",
    "Short notebook demonstrating the CARISMA and CANOPUS modules.\n",
    "\n",
    "CANOPUS data is similar to CARISMA data and hosted by the University of Alberta. Data must be downloaded from the website before loading as a CANOPUS data server does not exist. "
   ]
  },
  {
   "cell_type": "code",
   "execution_count": 1,
   "metadata": {},
   "outputs": [],
   "source": [
    "from IPython.core.interactiveshell import InteractiveShell\n",
    "InteractiveShell.ast_node_interactivity = \"all\"\n",
    "\n",
    "%matplotlib notebook"
   ]
  },
  {
   "cell_type": "code",
   "execution_count": 2,
   "metadata": {
    "scrolled": true
   },
   "outputs": [],
   "source": [
    "# import modules\n",
    "import gmag.arrays.carisma as carisma\n",
    "from gmag import utils\n",
    "import pandas as pd\n",
    "import matplotlib.pyplot as plt"
   ]
  },
  {
   "cell_type": "code",
   "execution_count": null,
   "metadata": {},
   "outputs": [],
   "source": [
    "# list the local and remote file locations and file names\n",
    "# used for download and loading data\n",
    "fl = carisma.list_files('GILL','2012-01-01',ndays=4)\n",
    "fl.head()"
   ]
  },
  {
   "cell_type": "code",
   "execution_count": null,
   "metadata": {},
   "outputs": [],
   "source": [
    "# download a single station of data\n",
    "carisma.download('GILL','2021-02-09',ndays=1)"
   ]
  },
  {
   "cell_type": "code",
   "execution_count": 3,
   "metadata": {},
   "outputs": [
    {
     "name": "stdout",
     "output_type": "stream",
     "text": [
      "Downloading Data:\n",
      "File 20190104ISLL.F01.gz exists use force=True to download\n",
      "Loading: D:\\data\\magnetometer\\CARISMA\\2019\\01\\04\\20190104ISLL.F01.gz\n",
      "Downloading Data:\n",
      "File 20190104GILL.F01.gz exists use force=True to download\n",
      "Loading: D:\\data\\magnetometer\\CARISMA\\2019\\01\\04\\20190104GILL.F01.gz\n"
     ]
    }
   ],
   "source": [
    "# load data and meta data from 2 sites for a single day\n",
    "c_dat, c_meta=carisma.load(['ISLL','GILL'],'2019-01-04',ndays=1,drop_flag=False)"
   ]
  },
  {
   "cell_type": "code",
   "execution_count": 4,
   "metadata": {},
   "outputs": [
    {
     "data": {
      "text/html": [
       "<div>\n",
       "<style scoped>\n",
       "    .dataframe tbody tr th:only-of-type {\n",
       "        vertical-align: middle;\n",
       "    }\n",
       "\n",
       "    .dataframe tbody tr th {\n",
       "        vertical-align: top;\n",
       "    }\n",
       "\n",
       "    .dataframe thead th {\n",
       "        text-align: right;\n",
       "    }\n",
       "</style>\n",
       "<table border=\"1\" class=\"dataframe\">\n",
       "  <thead>\n",
       "    <tr style=\"text-align: right;\">\n",
       "      <th></th>\n",
       "      <th>ISLL_X</th>\n",
       "      <th>ISLL_Y</th>\n",
       "      <th>ISLL_Z</th>\n",
       "      <th>ISLL_flag</th>\n",
       "      <th>GILL_X</th>\n",
       "      <th>GILL_Y</th>\n",
       "      <th>GILL_Z</th>\n",
       "      <th>GILL_flag</th>\n",
       "      <th>ISLL_H</th>\n",
       "      <th>ISLL_D</th>\n",
       "      <th>GILL_H</th>\n",
       "      <th>GILL_D</th>\n",
       "    </tr>\n",
       "    <tr>\n",
       "      <th>t</th>\n",
       "      <th></th>\n",
       "      <th></th>\n",
       "      <th></th>\n",
       "      <th></th>\n",
       "      <th></th>\n",
       "      <th></th>\n",
       "      <th></th>\n",
       "      <th></th>\n",
       "      <th></th>\n",
       "      <th></th>\n",
       "      <th></th>\n",
       "      <th></th>\n",
       "    </tr>\n",
       "  </thead>\n",
       "  <tbody>\n",
       "    <tr>\n",
       "      <th>2019-01-04 00:00:00</th>\n",
       "      <td>12098.819</td>\n",
       "      <td>52.047</td>\n",
       "      <td>57679.853</td>\n",
       "      <td>.</td>\n",
       "      <td>11474.709</td>\n",
       "      <td>-373.669</td>\n",
       "      <td>58241.237</td>\n",
       "      <td>.</td>\n",
       "      <td>12098.795448</td>\n",
       "      <td>57.260800</td>\n",
       "      <td>11478.297248</td>\n",
       "      <td>-239.306193</td>\n",
       "    </tr>\n",
       "    <tr>\n",
       "      <th>2019-01-04 00:00:01</th>\n",
       "      <td>12098.841</td>\n",
       "      <td>52.034</td>\n",
       "      <td>57679.850</td>\n",
       "      <td>.</td>\n",
       "      <td>11474.700</td>\n",
       "      <td>-373.672</td>\n",
       "      <td>58241.184</td>\n",
       "      <td>.</td>\n",
       "      <td>12098.817453</td>\n",
       "      <td>57.247810</td>\n",
       "      <td>11478.288283</td>\n",
       "      <td>-239.309298</td>\n",
       "    </tr>\n",
       "    <tr>\n",
       "      <th>2019-01-04 00:00:02</th>\n",
       "      <td>12098.844</td>\n",
       "      <td>52.041</td>\n",
       "      <td>57679.831</td>\n",
       "      <td>.</td>\n",
       "      <td>11474.800</td>\n",
       "      <td>-373.600</td>\n",
       "      <td>58241.197</td>\n",
       "      <td>.</td>\n",
       "      <td>12098.820450</td>\n",
       "      <td>57.254811</td>\n",
       "      <td>11478.387433</td>\n",
       "      <td>-239.236132</td>\n",
       "    </tr>\n",
       "    <tr>\n",
       "      <th>2019-01-04 00:00:03</th>\n",
       "      <td>12098.844</td>\n",
       "      <td>52.047</td>\n",
       "      <td>57679.825</td>\n",
       "      <td>.</td>\n",
       "      <td>11474.728</td>\n",
       "      <td>-373.703</td>\n",
       "      <td>58241.150</td>\n",
       "      <td>.</td>\n",
       "      <td>12098.820448</td>\n",
       "      <td>57.260811</td>\n",
       "      <td>11478.316644</td>\n",
       "      <td>-239.339968</td>\n",
       "    </tr>\n",
       "    <tr>\n",
       "      <th>2019-01-04 00:00:04</th>\n",
       "      <td>12098.847</td>\n",
       "      <td>52.059</td>\n",
       "      <td>57679.819</td>\n",
       "      <td>.</td>\n",
       "      <td>11474.797</td>\n",
       "      <td>-373.637</td>\n",
       "      <td>58241.178</td>\n",
       "      <td>.</td>\n",
       "      <td>12098.823443</td>\n",
       "      <td>57.272812</td>\n",
       "      <td>11478.384867</td>\n",
       "      <td>-239.273164</td>\n",
       "    </tr>\n",
       "  </tbody>\n",
       "</table>\n",
       "</div>"
      ],
      "text/plain": [
       "                        ISLL_X  ISLL_Y     ISLL_Z ISLL_flag     GILL_X  \\\n",
       "t                                                                        \n",
       "2019-01-04 00:00:00  12098.819  52.047  57679.853         .  11474.709   \n",
       "2019-01-04 00:00:01  12098.841  52.034  57679.850         .  11474.700   \n",
       "2019-01-04 00:00:02  12098.844  52.041  57679.831         .  11474.800   \n",
       "2019-01-04 00:00:03  12098.844  52.047  57679.825         .  11474.728   \n",
       "2019-01-04 00:00:04  12098.847  52.059  57679.819         .  11474.797   \n",
       "\n",
       "                      GILL_Y     GILL_Z GILL_flag        ISLL_H     ISLL_D  \\\n",
       "t                                                                            \n",
       "2019-01-04 00:00:00 -373.669  58241.237         .  12098.795448  57.260800   \n",
       "2019-01-04 00:00:01 -373.672  58241.184         .  12098.817453  57.247810   \n",
       "2019-01-04 00:00:02 -373.600  58241.197         .  12098.820450  57.254811   \n",
       "2019-01-04 00:00:03 -373.703  58241.150         .  12098.820448  57.260811   \n",
       "2019-01-04 00:00:04 -373.637  58241.178         .  12098.823443  57.272812   \n",
       "\n",
       "                           GILL_H      GILL_D  \n",
       "t                                              \n",
       "2019-01-04 00:00:00  11478.297248 -239.306193  \n",
       "2019-01-04 00:00:01  11478.288283 -239.309298  \n",
       "2019-01-04 00:00:02  11478.387433 -239.236132  \n",
       "2019-01-04 00:00:03  11478.316644 -239.339968  \n",
       "2019-01-04 00:00:04  11478.384867 -239.273164  "
      ]
     },
     "execution_count": 4,
     "metadata": {},
     "output_type": "execute_result"
    }
   ],
   "source": [
    "# show the loaded DataFrame\n",
    "c_dat.head()"
   ]
  },
  {
   "cell_type": "code",
   "execution_count": 7,
   "metadata": {},
   "outputs": [
    {
     "data": {
      "text/html": [
       "<div>\n",
       "<style scoped>\n",
       "    .dataframe tbody tr th:only-of-type {\n",
       "        vertical-align: middle;\n",
       "    }\n",
       "\n",
       "    .dataframe tbody tr th {\n",
       "        vertical-align: top;\n",
       "    }\n",
       "\n",
       "    .dataframe thead th {\n",
       "        text-align: right;\n",
       "    }\n",
       "</style>\n",
       "<table border=\"1\" class=\"dataframe\">\n",
       "  <thead>\n",
       "    <tr style=\"text-align: right;\">\n",
       "      <th></th>\n",
       "      <th>array</th>\n",
       "      <th>code</th>\n",
       "      <th>name</th>\n",
       "      <th>latitude</th>\n",
       "      <th>longitude</th>\n",
       "      <th>cgm_latitude</th>\n",
       "      <th>cgm_longitude</th>\n",
       "      <th>declination</th>\n",
       "      <th>lshell</th>\n",
       "      <th>mlt_midnight</th>\n",
       "      <th>mlt_ut</th>\n",
       "      <th>year</th>\n",
       "      <th>Time Resolution</th>\n",
       "      <th>Coordinates</th>\n",
       "      <th>PI</th>\n",
       "      <th>Institution</th>\n",
       "    </tr>\n",
       "  </thead>\n",
       "  <tbody>\n",
       "    <tr>\n",
       "      <th>0</th>\n",
       "      <td>CARISMA</td>\n",
       "      <td>ISLL</td>\n",
       "      <td>Island Lake</td>\n",
       "      <td>53.856</td>\n",
       "      <td>265.34</td>\n",
       "      <td>63.02717</td>\n",
       "      <td>335.6151</td>\n",
       "      <td>-0.024691</td>\n",
       "      <td>4.860886</td>\n",
       "      <td>6.879090</td>\n",
       "      <td>17.12091</td>\n",
       "      <td>2019</td>\n",
       "      <td>1.0</td>\n",
       "      <td>Geographic North - X, Eas - Y, Vertical Down -...</td>\n",
       "      <td>Ian Mann</td>\n",
       "      <td>University of Alberta</td>\n",
       "    </tr>\n",
       "    <tr>\n",
       "      <th>1</th>\n",
       "      <td>CARISMA</td>\n",
       "      <td>GILL</td>\n",
       "      <td>Gillam</td>\n",
       "      <td>56.376</td>\n",
       "      <td>265.36</td>\n",
       "      <td>65.40524</td>\n",
       "      <td>335.3998</td>\n",
       "      <td>-0.670791</td>\n",
       "      <td>5.772988</td>\n",
       "      <td>6.893449</td>\n",
       "      <td>17.10655</td>\n",
       "      <td>2019</td>\n",
       "      <td>1.0</td>\n",
       "      <td>Geographic North - X, Eas - Y, Vertical Down -...</td>\n",
       "      <td>Ian Mann</td>\n",
       "      <td>University of Alberta</td>\n",
       "    </tr>\n",
       "  </tbody>\n",
       "</table>\n",
       "</div>"
      ],
      "text/plain": [
       "     array  code         name  latitude  longitude  cgm_latitude  \\\n",
       "0  CARISMA  ISLL  Island Lake    53.856     265.34      63.02717   \n",
       "1  CARISMA  GILL       Gillam    56.376     265.36      65.40524   \n",
       "\n",
       "   cgm_longitude  declination    lshell  mlt_midnight    mlt_ut  year  \\\n",
       "0       335.6151    -0.024691  4.860886      6.879090  17.12091  2019   \n",
       "1       335.3998    -0.670791  5.772988      6.893449  17.10655  2019   \n",
       "\n",
       "   Time Resolution                                        Coordinates  \\\n",
       "0              1.0  Geographic North - X, Eas - Y, Vertical Down -...   \n",
       "1              1.0  Geographic North - X, Eas - Y, Vertical Down -...   \n",
       "\n",
       "         PI            Institution  \n",
       "0  Ian Mann  University of Alberta  \n",
       "1  Ian Mann  University of Alberta  "
      ]
     },
     "execution_count": 7,
     "metadata": {},
     "output_type": "execute_result"
    },
    {
     "data": {
      "text/plain": [
       "'Geographic North - X, Eas - Y, Vertical Down - Z, Geomagnetic North - H, East- D, Vertical Down - Z'"
      ]
     },
     "execution_count": 7,
     "metadata": {},
     "output_type": "execute_result"
    }
   ],
   "source": [
    "# show the meta data\n",
    "c_meta\n",
    "c_meta['Coordinates'][0]"
   ]
  },
  {
   "cell_type": "code",
   "execution_count": null,
   "metadata": {},
   "outputs": [],
   "source": [
    "# Read in all Carisma Data for a particular day\n",
    "car_stn = utils.load_station_coor(param='CARISMA',col='array')\n",
    "c_dat2, c_meta2 = carisma.load(list(car_stn['code']),'2020-01-02')\n",
    "c_meta2"
   ]
  },
  {
   "cell_type": "code",
   "execution_count": null,
   "metadata": {},
   "outputs": [],
   "source": [
    "# load some canopus data\n",
    "import gmag.arrays.canopus as canopus\n",
    "can_d, can_m=canopus.load('GILL','1995-06-23',ndays=1)\n",
    "can_d.head()"
   ]
  },
  {
   "cell_type": "code",
   "execution_count": null,
   "metadata": {},
   "outputs": [],
   "source": [
    "can_m"
   ]
  }
 ],
 "metadata": {
  "kernelspec": {
   "display_name": "Python 3",
   "language": "python",
   "name": "python3"
  },
  "language_info": {
   "codemirror_mode": {
    "name": "ipython",
    "version": 3
   },
   "file_extension": ".py",
   "mimetype": "text/x-python",
   "name": "python",
   "nbconvert_exporter": "python",
   "pygments_lexer": "ipython3",
   "version": "3.6.13"
  }
 },
 "nbformat": 4,
 "nbformat_minor": 2
}
