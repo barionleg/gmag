{
 "cells": [
  {
   "cell_type": "code",
   "execution_count": 1,
   "metadata": {},
   "outputs": [],
   "source": [
    "from IPython.core.interactiveshell import InteractiveShell\n",
    "InteractiveShell.ast_node_interactivity = \"all\"\n",
    "\n",
    "%matplotlib notebook"
   ]
  },
  {
   "cell_type": "code",
   "execution_count": 2,
   "metadata": {
    "scrolled": true
   },
   "outputs": [],
   "source": [
    "import gmag.arrays.carisma as carisma\n",
    "from gmag import utils\n",
    "import pandas as pd\n",
    "import matplotlib.pyplot as plt"
   ]
  },
  {
   "cell_type": "code",
   "execution_count": null,
   "metadata": {},
   "outputs": [],
   "source": [
    "fl = carisma.list_files('GILL','2012-01-01',ndays=4)\n",
    "fl.head()"
   ]
  },
  {
   "cell_type": "code",
   "execution_count": null,
   "metadata": {},
   "outputs": [],
   "source": [
    "#test download\n",
    "carisma.download('GILL','2021-02-09',ndays=1)"
   ]
  },
  {
   "cell_type": "code",
   "execution_count": 3,
   "metadata": {},
   "outputs": [
    {
     "name": "stdout",
     "output_type": "stream",
     "text": [
      "Downloading Data:\n",
      "File 20190104ISLL.F01.gz exists use force=True to download\n",
      "Loading: D:\\data\\magnetometer\\CARISMA\\2019\\01\\04\\20190104ISLL.F01.gz\n",
      "Downloading Data:\n",
      "File 20190104GILL.F01.gz exists use force=True to download\n",
      "Loading: D:\\data\\magnetometer\\CARISMA\\2019\\01\\04\\20190104GILL.F01.gz\n"
     ]
    }
   ],
   "source": [
    "#test load data\n",
    "df, df2=carisma.load(['ISLL','GILL'],'2019-01-04',ndays=1,drop_flag=False)"
   ]
  },
  {
   "cell_type": "code",
   "execution_count": 3,
   "metadata": {},
   "outputs": [
    {
     "data": {
      "text/html": [
       "<div>\n",
       "<style scoped>\n",
       "    .dataframe tbody tr th:only-of-type {\n",
       "        vertical-align: middle;\n",
       "    }\n",
       "\n",
       "    .dataframe tbody tr th {\n",
       "        vertical-align: top;\n",
       "    }\n",
       "\n",
       "    .dataframe thead th {\n",
       "        text-align: right;\n",
       "    }\n",
       "</style>\n",
       "<table border=\"1\" class=\"dataframe\">\n",
       "  <thead>\n",
       "    <tr style=\"text-align: right;\">\n",
       "      <th></th>\n",
       "      <th>ISLL_X</th>\n",
       "      <th>ISLL_Y</th>\n",
       "      <th>ISLL_Z</th>\n",
       "      <th>ISLL_flag</th>\n",
       "      <th>GILL_X</th>\n",
       "      <th>GILL_Y</th>\n",
       "      <th>GILL_Z</th>\n",
       "      <th>GILL_flag</th>\n",
       "      <th>ISLL_H</th>\n",
       "      <th>ISLL_D</th>\n",
       "      <th>GILL_H</th>\n",
       "      <th>GILL_D</th>\n",
       "    </tr>\n",
       "    <tr>\n",
       "      <th>t</th>\n",
       "      <th></th>\n",
       "      <th></th>\n",
       "      <th></th>\n",
       "      <th></th>\n",
       "      <th></th>\n",
       "      <th></th>\n",
       "      <th></th>\n",
       "      <th></th>\n",
       "      <th></th>\n",
       "      <th></th>\n",
       "      <th></th>\n",
       "      <th></th>\n",
       "    </tr>\n",
       "  </thead>\n",
       "  <tbody>\n",
       "    <tr>\n",
       "      <th>2019-01-04 23:59:55</th>\n",
       "      <td>12131.241</td>\n",
       "      <td>50.375</td>\n",
       "      <td>57766.859</td>\n",
       "      <td>.</td>\n",
       "      <td>11618.681</td>\n",
       "      <td>-337.794</td>\n",
       "      <td>58263.056</td>\n",
       "      <td>.</td>\n",
       "      <td>12131.218165</td>\n",
       "      <td>55.602772</td>\n",
       "      <td>11621.839383</td>\n",
       "      <td>-201.748136</td>\n",
       "    </tr>\n",
       "    <tr>\n",
       "      <th>2019-01-04 23:59:56</th>\n",
       "      <td>12131.231</td>\n",
       "      <td>50.347</td>\n",
       "      <td>57766.862</td>\n",
       "      <td>.</td>\n",
       "      <td>11618.541</td>\n",
       "      <td>-337.919</td>\n",
       "      <td>58262.922</td>\n",
       "      <td>.</td>\n",
       "      <td>12131.208177</td>\n",
       "      <td>55.574768</td>\n",
       "      <td>11621.700856</td>\n",
       "      <td>-201.874766</td>\n",
       "    </tr>\n",
       "    <tr>\n",
       "      <th>2019-01-04 23:59:57</th>\n",
       "      <td>12131.238</td>\n",
       "      <td>50.344</td>\n",
       "      <td>57766.872</td>\n",
       "      <td>.</td>\n",
       "      <td>11618.328</td>\n",
       "      <td>-338.053</td>\n",
       "      <td>58262.828</td>\n",
       "      <td>.</td>\n",
       "      <td>12131.215179</td>\n",
       "      <td>55.571771</td>\n",
       "      <td>11621.489440</td>\n",
       "      <td>-202.011251</td>\n",
       "    </tr>\n",
       "    <tr>\n",
       "      <th>2019-01-04 23:59:58</th>\n",
       "      <td>12131.238</td>\n",
       "      <td>50.306</td>\n",
       "      <td>57766.856</td>\n",
       "      <td>.</td>\n",
       "      <td>11618.197</td>\n",
       "      <td>-338.225</td>\n",
       "      <td>58262.759</td>\n",
       "      <td>.</td>\n",
       "      <td>12131.215195</td>\n",
       "      <td>55.533771</td>\n",
       "      <td>11621.360462</td>\n",
       "      <td>-202.184773</td>\n",
       "    </tr>\n",
       "    <tr>\n",
       "      <th>2019-01-04 23:59:59</th>\n",
       "      <td>12131.237</td>\n",
       "      <td>50.294</td>\n",
       "      <td>57766.859</td>\n",
       "      <td>.</td>\n",
       "      <td>11617.938</td>\n",
       "      <td>-338.469</td>\n",
       "      <td>58262.691</td>\n",
       "      <td>.</td>\n",
       "      <td>12131.214200</td>\n",
       "      <td>55.521770</td>\n",
       "      <td>11621.104337</td>\n",
       "      <td>-202.431788</td>\n",
       "    </tr>\n",
       "  </tbody>\n",
       "</table>\n",
       "</div>"
      ],
      "text/plain": [
       "                        ISLL_X  ISLL_Y     ISLL_Z ISLL_flag     GILL_X  \\\n",
       "t                                                                        \n",
       "2019-01-04 23:59:55  12131.241  50.375  57766.859         .  11618.681   \n",
       "2019-01-04 23:59:56  12131.231  50.347  57766.862         .  11618.541   \n",
       "2019-01-04 23:59:57  12131.238  50.344  57766.872         .  11618.328   \n",
       "2019-01-04 23:59:58  12131.238  50.306  57766.856         .  11618.197   \n",
       "2019-01-04 23:59:59  12131.237  50.294  57766.859         .  11617.938   \n",
       "\n",
       "                      GILL_Y     GILL_Z GILL_flag        ISLL_H     ISLL_D  \\\n",
       "t                                                                            \n",
       "2019-01-04 23:59:55 -337.794  58263.056         .  12131.218165  55.602772   \n",
       "2019-01-04 23:59:56 -337.919  58262.922         .  12131.208177  55.574768   \n",
       "2019-01-04 23:59:57 -338.053  58262.828         .  12131.215179  55.571771   \n",
       "2019-01-04 23:59:58 -338.225  58262.759         .  12131.215195  55.533771   \n",
       "2019-01-04 23:59:59 -338.469  58262.691         .  12131.214200  55.521770   \n",
       "\n",
       "                           GILL_H      GILL_D  \n",
       "t                                              \n",
       "2019-01-04 23:59:55  11621.839383 -201.748136  \n",
       "2019-01-04 23:59:56  11621.700856 -201.874766  \n",
       "2019-01-04 23:59:57  11621.489440 -202.011251  \n",
       "2019-01-04 23:59:58  11621.360462 -202.184773  \n",
       "2019-01-04 23:59:59  11621.104337 -202.431788  "
      ]
     },
     "execution_count": 3,
     "metadata": {},
     "output_type": "execute_result"
    }
   ],
   "source": [
    "df.head()\n",
    "df.tail()"
   ]
  },
  {
   "cell_type": "code",
   "execution_count": 4,
   "metadata": {},
   "outputs": [
    {
     "data": {
      "text/html": [
       "<div>\n",
       "<style scoped>\n",
       "    .dataframe tbody tr th:only-of-type {\n",
       "        vertical-align: middle;\n",
       "    }\n",
       "\n",
       "    .dataframe tbody tr th {\n",
       "        vertical-align: top;\n",
       "    }\n",
       "\n",
       "    .dataframe thead th {\n",
       "        text-align: right;\n",
       "    }\n",
       "</style>\n",
       "<table border=\"1\" class=\"dataframe\">\n",
       "  <thead>\n",
       "    <tr style=\"text-align: right;\">\n",
       "      <th></th>\n",
       "      <th>array</th>\n",
       "      <th>code</th>\n",
       "      <th>name</th>\n",
       "      <th>latitude</th>\n",
       "      <th>longitude</th>\n",
       "      <th>cgm_latitude</th>\n",
       "      <th>cgm_longitude</th>\n",
       "      <th>declination</th>\n",
       "      <th>lshell</th>\n",
       "      <th>mlt_midnight</th>\n",
       "      <th>mlt_ut</th>\n",
       "      <th>year</th>\n",
       "      <th>Time Resolution</th>\n",
       "      <th>Coordinates</th>\n",
       "      <th>PI</th>\n",
       "      <th>Institution</th>\n",
       "    </tr>\n",
       "  </thead>\n",
       "  <tbody>\n",
       "    <tr>\n",
       "      <th>0</th>\n",
       "      <td>CARISMA</td>\n",
       "      <td>ISLL</td>\n",
       "      <td>Island Lake</td>\n",
       "      <td>53.856</td>\n",
       "      <td>265.34</td>\n",
       "      <td>63.02717</td>\n",
       "      <td>335.6151</td>\n",
       "      <td>-0.024691</td>\n",
       "      <td>4.860886</td>\n",
       "      <td>6.879090</td>\n",
       "      <td>17.12091</td>\n",
       "      <td>2019</td>\n",
       "      <td>1.0</td>\n",
       "      <td>Geographic North - X, Eas - Y, Vertical Down -...</td>\n",
       "      <td>Ian Mann</td>\n",
       "      <td>University of Alberta</td>\n",
       "    </tr>\n",
       "    <tr>\n",
       "      <th>1</th>\n",
       "      <td>CARISMA</td>\n",
       "      <td>GILL</td>\n",
       "      <td>Gillam</td>\n",
       "      <td>56.376</td>\n",
       "      <td>265.36</td>\n",
       "      <td>65.40524</td>\n",
       "      <td>335.3998</td>\n",
       "      <td>-0.670791</td>\n",
       "      <td>5.772988</td>\n",
       "      <td>6.893449</td>\n",
       "      <td>17.10655</td>\n",
       "      <td>2019</td>\n",
       "      <td>1.0</td>\n",
       "      <td>Geographic North - X, Eas - Y, Vertical Down -...</td>\n",
       "      <td>Ian Mann</td>\n",
       "      <td>University of Alberta</td>\n",
       "    </tr>\n",
       "  </tbody>\n",
       "</table>\n",
       "</div>"
      ],
      "text/plain": [
       "     array  code         name  latitude  longitude  cgm_latitude  \\\n",
       "0  CARISMA  ISLL  Island Lake    53.856     265.34      63.02717   \n",
       "1  CARISMA  GILL       Gillam    56.376     265.36      65.40524   \n",
       "\n",
       "   cgm_longitude  declination    lshell  mlt_midnight    mlt_ut  year  \\\n",
       "0       335.6151    -0.024691  4.860886      6.879090  17.12091  2019   \n",
       "1       335.3998    -0.670791  5.772988      6.893449  17.10655  2019   \n",
       "\n",
       "   Time Resolution                                        Coordinates  \\\n",
       "0              1.0  Geographic North - X, Eas - Y, Vertical Down -...   \n",
       "1              1.0  Geographic North - X, Eas - Y, Vertical Down -...   \n",
       "\n",
       "         PI            Institution  \n",
       "0  Ian Mann  University of Alberta  \n",
       "1  Ian Mann  University of Alberta  "
      ]
     },
     "execution_count": 4,
     "metadata": {},
     "output_type": "execute_result"
    }
   ],
   "source": [
    "df2"
   ]
  },
  {
   "cell_type": "code",
   "execution_count": null,
   "metadata": {},
   "outputs": [],
   "source": [
    "res = (pd.Series(df.index[1:]) -\n",
    "               pd.Series(df.index[:-1])).value_counts()\n",
    "res = res.index[0].total_seconds()\n",
    "res"
   ]
  },
  {
   "cell_type": "code",
   "execution_count": 5,
   "metadata": {},
   "outputs": [
    {
     "data": {
      "text/plain": [
       "[<matplotlib.lines.Line2D at 0x219f9d196d8>]"
      ]
     },
     "execution_count": 5,
     "metadata": {},
     "output_type": "execute_result"
    },
    {
     "data": {
      "image/png": "[encoded data removed]",
      "text/plain": [
       "<Figure size 432x288 with 1 Axes>"
      ]
     },
     "metadata": {
      "needs_background": "light"
     },
     "output_type": "display_data"
    }
   ],
   "source": [
    "# not you can plot with panda's, however there\n",
    "#is an issue with determining the x-axis ticks\n",
    "#which serverly slows plotting and is extremely\n",
    "#memory intesive\n",
    "from pandas.plotting import register_matplotlib_converters\n",
    "register_matplotlib_converters()\n",
    "plt.plot(df['GILL_H'])"
   ]
  },
  {
   "cell_type": "code",
   "execution_count": null,
   "metadata": {},
   "outputs": [],
   "source": [
    "# Read in all Carisma Data for a particular day\n",
    "from gmag import utils\n",
    "car_stn = utils.load_station_coor(param='all',col='array')\n",
    "car_stn.head()"
   ]
  },
  {
   "cell_type": "code",
   "execution_count": null,
   "metadata": {},
   "outputs": [],
   "source": [
    "stn_cgm = utils.load_station_coor(param='CARISMA',col='array', year=2019)\n"
   ]
  },
  {
   "cell_type": "code",
   "execution_count": null,
   "metadata": {},
   "outputs": [],
   "source": [
    "stn_dat = stn_cgm[stn_cgm['code'] == 'GILL'].reset_index(drop=True)\n",
    "dec = float(stn_dat['declination'])"
   ]
  },
  {
   "cell_type": "code",
   "execution_count": null,
   "metadata": {},
   "outputs": [],
   "source": [
    "stn_dat"
   ]
  },
  {
   "cell_type": "code",
   "execution_count": null,
   "metadata": {},
   "outputs": [],
   "source": [
    "geo_stn = utils.load_station_geo(param='all',col='code')\n",
    "geo_stn"
   ]
  },
  {
   "cell_type": "code",
   "execution_count": null,
   "metadata": {},
   "outputs": [],
   "source": [
    "df=carisma.load(list(car_stn['code']),'2020-01-02',edate='2020-01-05',dl=True)"
   ]
  },
  {
   "cell_type": "code",
   "execution_count": null,
   "metadata": {},
   "outputs": [],
   "source": [
    "stn_dat = geo_stn[geo_stn['code'] == ['GILL','ISLL']]\n",
    "stn_dat"
   ]
  },
  {
   "cell_type": "code",
   "execution_count": null,
   "metadata": {},
   "outputs": [],
   "source": [
    "col=car_stn.columns\n"
   ]
  },
  {
   "cell_type": "code",
   "execution_count": null,
   "metadata": {},
   "outputs": [],
   "source": [
    "meta = pd.DataFrame(columns=['array', 'code', 'name', 'latitude', 'longitude', 'cgm_latitude',\n",
    "       'cgm_longitude', 'declination', 'lshell', 'mlt_midnight', 'mlt_ut',\n",
    "       'year'])"
   ]
  },
  {
   "cell_type": "code",
   "execution_count": null,
   "metadata": {},
   "outputs": [],
   "source": [
    "meta = pd.concat([meta,geo_stn],axis=0, sort=False)\n",
    "meta"
   ]
  },
  {
   "cell_type": "code",
   "execution_count": null,
   "metadata": {
    "scrolled": true
   },
   "outputs": [],
   "source": [
    "plt.plot(df['FCHU_X'])"
   ]
  }
 ],
 "metadata": {
  "kernelspec": {
   "display_name": "Python 3",
   "language": "python",
   "name": "python3"
  },
  "language_info": {
   "codemirror_mode": {
    "name": "ipython",
    "version": 3
   },
   "file_extension": ".py",
   "mimetype": "text/x-python",
   "name": "python",
   "nbconvert_exporter": "python",
   "pygments_lexer": "ipython3",
   "version": "3.7.3"
  }
 },
 "nbformat": 4,
 "nbformat_minor": 2
}
